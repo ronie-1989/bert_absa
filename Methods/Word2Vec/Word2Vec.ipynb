{
  "nbformat": 4,
  "nbformat_minor": 0,
  "metadata": {
    "colab": {
      "provenance": [],
      "toc_visible": true,
      "collapsed_sections": [
        "DhmTiCeju7SH"
      ]
    },
    "kernelspec": {
      "name": "python3",
      "display_name": "Python 3"
    },
    "language_info": {
      "name": "python"
    }
  },
  "cells": [
    {
      "cell_type": "markdown",
      "source": [
        "### Explore"
      ],
      "metadata": {
        "id": "DhmTiCeju7SH"
      }
    },
    {
      "cell_type": "code",
      "source": [
        "import matplotlib.pyplot as plt"
      ],
      "metadata": {
        "id": "oEaJh_AMvpbP"
      },
      "execution_count": null,
      "outputs": []
    },
    {
      "cell_type": "markdown",
      "source": [
        "#### Laptop"
      ],
      "metadata": {
        "id": "1VoPlsHXvDFe"
      }
    },
    {
      "cell_type": "markdown",
      "source": [
        "##### Distribution of aspects"
      ],
      "metadata": {
        "id": "LZ8GaM8yyPyb"
      }
    },
    {
      "cell_type": "code",
      "source": [
        "from google.colab import drive\n",
        "drive.mount('/content/drive')\n",
        "\n",
        "import pandas as  pd\n",
        "train = pd.read_json('/content/drive/MyDrive/ABSA/laptop/train.json').T.reset_index()\n",
        "dev = pd.read_json('/content/drive/MyDrive/ABSA/laptop/dev.json').T.reset_index()\n",
        "test = pd.read_json('/content/drive/MyDrive/ABSA/laptop/test.json').T.reset_index()"
      ],
      "metadata": {
        "colab": {
          "base_uri": "https://localhost:8080/"
        },
        "id": "FzBpUpg4vBX3",
        "outputId": "7077bcba-8813-4892-9422-88dfea237174"
      },
      "execution_count": null,
      "outputs": [
        {
          "output_type": "stream",
          "name": "stdout",
          "text": [
            "Mounted at /content/drive\n"
          ]
        }
      ]
    },
    {
      "cell_type": "code",
      "source": [
        "len(train)"
      ],
      "metadata": {
        "colab": {
          "base_uri": "https://localhost:8080/"
        },
        "id": "ILJzKswKvgLH",
        "outputId": "dc8eb88c-9994-4b9e-a2da-6980c9cc15cc"
      },
      "execution_count": null,
      "outputs": [
        {
          "output_type": "execute_result",
          "data": {
            "text/plain": [
              "2163"
            ]
          },
          "metadata": {},
          "execution_count": 2
        }
      ]
    },
    {
      "cell_type": "code",
      "source": [
        "t = train['sentence'].value_counts()\n",
        "d = dev['sentence'].value_counts()\n",
        "e = test['sentence'].value_counts()"
      ],
      "metadata": {
        "id": "WRG5CkPFv8T5"
      },
      "execution_count": null,
      "outputs": []
    },
    {
      "cell_type": "code",
      "source": [
        "plt.hist(t, bins = 20, density=True, alpha=0.5, label='train')\n",
        "plt.hist(d, bins = 20, density=True, alpha=0.5, label='dev')\n",
        "plt.hist(e, bins = 20, density=True, alpha=0.5, label='eval')\n",
        "plt.xlabel('Value')\n",
        "plt.ylabel('Density')\n",
        "plt.title('Histograms of Number of aspect terms per sentence')\n",
        "plt.legend()\n",
        "# Show the plot\n",
        "plt.show()\n"
      ],
      "metadata": {
        "colab": {
          "base_uri": "https://localhost:8080/",
          "height": 472
        },
        "id": "uZkP6WuZvGMd",
        "outputId": "007be7a6-e877-4d60-b579-e402f2e7f827"
      },
      "execution_count": null,
      "outputs": [
        {
          "output_type": "display_data",
          "data": {
            "text/plain": [
              "<Figure size 640x480 with 1 Axes>"
            ],
            "image/png": "[encoded data removed]"
          },
          "metadata": {}
        }
      ]
    },
    {
      "cell_type": "code",
      "source": [
        "import seaborn as sns\n",
        "sns.kdeplot(t, shade=True, label='Train')\n",
        "sns.kdeplot(d, shade=True, label='Val')\n",
        "sns.kdeplot(e, shade=True, label='Test')\n",
        "plt.title('Distribution of number of aspect terms per sentence')\n",
        "plt.xlabel('Value')\n",
        "plt.legend()"
      ],
      "metadata": {
        "colab": {
          "base_uri": "https://localhost:8080/",
          "height": 802
        },
        "id": "ezeNKA8FvGPG",
        "outputId": "a0be257e-6fa6-44d6-c165-a3b84da993a9"
      },
      "execution_count": null,
      "outputs": [
        {
          "output_type": "stream",
          "name": "stderr",
          "text": [
            "<ipython-input-7-5ff4ef63835e>:2: FutureWarning: \n",
            "\n",
            "`shade` is now deprecated in favor of `fill`; setting `fill=True`.\n",
            "This will become an error in seaborn v0.14.0; please update your code.\n",
            "\n",
            "  sns.kdeplot(t, shade=True, label='Train')\n",
            "<ipython-input-7-5ff4ef63835e>:3: FutureWarning: \n",
            "\n",
            "`shade` is now deprecated in favor of `fill`; setting `fill=True`.\n",
            "This will become an error in seaborn v0.14.0; please update your code.\n",
            "\n",
            "  sns.kdeplot(d, shade=True, label='Val')\n",
            "<ipython-input-7-5ff4ef63835e>:4: FutureWarning: \n",
            "\n",
            "`shade` is now deprecated in favor of `fill`; setting `fill=True`.\n",
            "This will become an error in seaborn v0.14.0; please update your code.\n",
            "\n",
            "  sns.kdeplot(e, shade=True, label='Test')\n"
          ]
        },
        {
          "output_type": "execute_result",
          "data": {
            "text/plain": [
              "<matplotlib.legend.Legend at 0x7f50a3f46b30>"
            ]
          },
          "metadata": {},
          "execution_count": 7
        },
        {
          "output_type": "display_data",
          "data": {
            "text/plain": [
              "<Figure size 640x480 with 1 Axes>"
            ],
            "image/png": "[encoded data removed]"
          },
          "metadata": {}
        }
      ]
    },
    {
      "cell_type": "markdown",
      "source": [
        "##### Sentence with multiple aspects with different polarities"
      ],
      "metadata": {
        "id": "uby-agY7NwnY"
      }
    },
    {
      "cell_type": "code",
      "source": [
        "### Sentence with most aspects\n",
        "tmp = train['sentence'].value_counts()[:1]\n",
        "tmp"
      ],
      "metadata": {
        "colab": {
          "base_uri": "https://localhost:8080/"
        },
        "id": "1Vyn4YP4N2aA",
        "outputId": "5eafaa6d-9c15-408d-e9bc-d739ff0de8b2"
      },
      "execution_count": null,
      "outputs": [
        {
          "output_type": "execute_result",
          "data": {
            "text/plain": [
              "There are several programs for school or office use (Pages, Numbers, Keynote, etc.), music (Garageband), photo management (Photo Booth, iPhoto), video-editing or movie-making (iMovie), etc.    13\n",
              "Name: sentence, dtype: int64"
            ]
          },
          "metadata": {},
          "execution_count": 8
        }
      ]
    },
    {
      "cell_type": "code",
      "source": [
        "# All aspects are neutral\n",
        "train[train['sentence'] == tmp.index.values[0]]"
      ],
      "metadata": {
        "colab": {
          "base_uri": "https://localhost:8080/",
          "height": 457
        },
        "id": "jIa6YAJaOD2Q",
        "outputId": "5c0eb129-c67e-46e4-e872-6cc1c4ed2539"
      },
      "execution_count": null,
      "outputs": [
        {
          "output_type": "execute_result",
          "data": {
            "text/plain": [
              "     index polarity                  term      id  \\\n",
              "634   4530  neutral               Numbers   453_0   \n",
              "635   4531  neutral  school or office use   453_1   \n",
              "636   4532  neutral                 music   453_2   \n",
              "637   4533  neutral                iPhoto   453_3   \n",
              "638   4534  neutral              programs   453_4   \n",
              "639   4535  neutral           Photo Booth   453_5   \n",
              "640   4536  neutral      photo management   453_6   \n",
              "641   4537  neutral          movie-making   453_7   \n",
              "642   4538  neutral         video-editing   453_8   \n",
              "643   4539  neutral                 Pages   453_9   \n",
              "941  45312  neutral                iMovie  453_12   \n",
              "943  45310  neutral               Keynote  453_10   \n",
              "944  45311  neutral            Garageband  453_11   \n",
              "\n",
              "                                              sentence  \n",
              "634  There are several programs for school or offic...  \n",
              "635  There are several programs for school or offic...  \n",
              "636  There are several programs for school or offic...  \n",
              "637  There are several programs for school or offic...  \n",
              "638  There are several programs for school or offic...  \n",
              "639  There are several programs for school or offic...  \n",
              "640  There are several programs for school or offic...  \n",
              "641  There are several programs for school or offic...  \n",
              "642  There are several programs for school or offic...  \n",
              "643  There are several programs for school or offic...  \n",
              "941  There are several programs for school or offic...  \n",
              "943  There are several programs for school or offic...  \n",
              "944  There are several programs for school or offic...  "
            ],
            "text/html": [
              "\n",
              "  <div id=\"df-3b723302-925c-4ea2-a42b-4030a7fc0d24\">\n",
              "    <div class=\"colab-df-container\">\n",
              "      <div>\n",
              "<style scoped>\n",
              "    .dataframe tbody tr th:only-of-type {\n",
              "        vertical-align: middle;\n",
              "    }\n",
              "\n",
              "    .dataframe tbody tr th {\n",
              "        vertical-align: top;\n",
              "    }\n",
              "\n",
              "    .dataframe thead th {\n",
              "        text-align: right;\n",
              "    }\n",
              "</style>\n",
              "<table border=\"1\" class=\"dataframe\">\n",
              "  <thead>\n",
              "    <tr style=\"text-align: right;\">\n",
              "      <th></th>\n",
              "      <th>index</th>\n",
              "      <th>polarity</th>\n",
              "      <th>term</th>\n",
              "      <th>id</th>\n",
              "      <th>sentence</th>\n",
              "    </tr>\n",
              "  </thead>\n",
              "  <tbody>\n",
              "    <tr>\n",
              "      <th>634</th>\n",
              "      <td>4530</td>\n",
              "      <td>neutral</td>\n",
              "      <td>Numbers</td>\n",
              "      <td>453_0</td>\n",
              "      <td>There are several programs for school or offic...</td>\n",
              "    </tr>\n",
              "    <tr>\n",
              "      <th>635</th>\n",
              "      <td>4531</td>\n",
              "      <td>neutral</td>\n",
              "      <td>school or office use</td>\n",
              "      <td>453_1</td>\n",
              "      <td>There are several programs for school or offic...</td>\n",
              "    </tr>\n",
              "    <tr>\n",
              "      <th>636</th>\n",
              "      <td>4532</td>\n",
              "      <td>neutral</td>\n",
              "      <td>music</td>\n",
              "      <td>453_2</td>\n",
              "      <td>There are several programs for school or offic...</td>\n",
              "    </tr>\n",
              "    <tr>\n",
              "      <th>637</th>\n",
              "      <td>4533</td>\n",
              "      <td>neutral</td>\n",
              "      <td>iPhoto</td>\n",
              "      <td>453_3</td>\n",
              "      <td>There are several programs for school or offic...</td>\n",
              "    </tr>\n",
              "    <tr>\n",
              "      <th>638</th>\n",
              "      <td>4534</td>\n",
              "      <td>neutral</td>\n",
              "      <td>programs</td>\n",
              "      <td>453_4</td>\n",
              "      <td>There are several programs for school or offic...</td>\n",
              "    </tr>\n",
              "    <tr>\n",
              "      <th>639</th>\n",
              "      <td>4535</td>\n",
              "      <td>neutral</td>\n",
              "      <td>Photo Booth</td>\n",
              "      <td>453_5</td>\n",
              "      <td>There are several programs for school or offic...</td>\n",
              "    </tr>\n",
              "    <tr>\n",
              "      <th>640</th>\n",
              "      <td>4536</td>\n",
              "      <td>neutral</td>\n",
              "      <td>photo management</td>\n",
              "      <td>453_6</td>\n",
              "      <td>There are several programs for school or offic...</td>\n",
              "    </tr>\n",
              "    <tr>\n",
              "      <th>641</th>\n",
              "      <td>4537</td>\n",
              "      <td>neutral</td>\n",
              "      <td>movie-making</td>\n",
              "      <td>453_7</td>\n",
              "      <td>There are several programs for school or offic...</td>\n",
              "    </tr>\n",
              "    <tr>\n",
              "      <th>642</th>\n",
              "      <td>4538</td>\n",
              "      <td>neutral</td>\n",
              "      <td>video-editing</td>\n",
              "      <td>453_8</td>\n",
              "      <td>There are several programs for school or offic...</td>\n",
              "    </tr>\n",
              "    <tr>\n",
              "      <th>643</th>\n",
              "      <td>4539</td>\n",
              "      <td>neutral</td>\n",
              "      <td>Pages</td>\n",
              "      <td>453_9</td>\n",
              "      <td>There are several programs for school or offic...</td>\n",
              "    </tr>\n",
              "    <tr>\n",
              "      <th>941</th>\n",
              "      <td>45312</td>\n",
              "      <td>neutral</td>\n",
              "      <td>iMovie</td>\n",
              "      <td>453_12</td>\n",
              "      <td>There are several programs for school or offic...</td>\n",
              "    </tr>\n",
              "    <tr>\n",
              "      <th>943</th>\n",
              "      <td>45310</td>\n",
              "      <td>neutral</td>\n",
              "      <td>Keynote</td>\n",
              "      <td>453_10</td>\n",
              "      <td>There are several programs for school or offic...</td>\n",
              "    </tr>\n",
              "    <tr>\n",
              "      <th>944</th>\n",
              "      <td>45311</td>\n",
              "      <td>neutral</td>\n",
              "      <td>Garageband</td>\n",
              "      <td>453_11</td>\n",
              "      <td>There are several programs for school or offic...</td>\n",
              "    </tr>\n",
              "  </tbody>\n",
              "</table>\n",
              "</div>\n",
              "      <button class=\"colab-df-convert\" onclick=\"convertToInteractive('df-3b723302-925c-4ea2-a42b-4030a7fc0d24')\"\n",
              "              title=\"Convert this dataframe to an interactive table.\"\n",
              "              style=\"display:none;\">\n",
              "        \n",
              "  <svg xmlns=\"http://www.w3.org/2000/svg\" height=\"24px\"viewBox=\"0 0 24 24\"\n",
              "       width=\"24px\">\n",
              "    <path d=\"M0 0h24v24H0V0z\" fill=\"none\"/>\n",
              "    <path d=\"M18.56 5.44l.94 2.06.94-2.06 2.06-.94-2.06-.94-.94-2.06-.94 2.06-2.06.94zm-11 1L8.5 8.5l.94-2.06 2.06-.94-2.06-.94L8.5 2.5l-.94 2.06-2.06.94zm10 10l.94 2.06.94-2.06 2.06-.94-2.06-.94-.94-2.06-.94 2.06-2.06.94z\"/><path d=\"M17.41 7.96l-1.37-1.37c-.4-.4-.92-.59-1.43-.59-.52 0-1.04.2-1.43.59L10.3 9.45l-7.72 7.72c-.78.78-.78 2.05 0 2.83L4 21.41c.39.39.9.59 1.41.59.51 0 1.02-.2 1.41-.59l7.78-7.78 2.81-2.81c.8-.78.8-2.07 0-2.86zM5.41 20L4 18.59l7.72-7.72 1.47 1.35L5.41 20z\"/>\n",
              "  </svg>\n",
              "      </button>\n",
              "      \n",
              "  <style>\n",
              "    .colab-df-container {\n",
              "      display:flex;\n",
              "      flex-wrap:wrap;\n",
              "      gap: 12px;\n",
              "    }\n",
              "\n",
              "    .colab-df-convert {\n",
              "      background-color: #E8F0FE;\n",
              "      border: none;\n",
              "      border-radius: 50%;\n",
              "      cursor: pointer;\n",
              "      display: none;\n",
              "      fill: #1967D2;\n",
              "      height: 32px;\n",
              "      padding: 0 0 0 0;\n",
              "      width: 32px;\n",
              "    }\n",
              "\n",
              "    .colab-df-convert:hover {\n",
              "      background-color: #E2EBFA;\n",
              "      box-shadow: 0px 1px 2px rgba(60, 64, 67, 0.3), 0px 1px 3px 1px rgba(60, 64, 67, 0.15);\n",
              "      fill: #174EA6;\n",
              "    }\n",
              "\n",
              "    [theme=dark] .colab-df-convert {\n",
              "      background-color: #3B4455;\n",
              "      fill: #D2E3FC;\n",
              "    }\n",
              "\n",
              "    [theme=dark] .colab-df-convert:hover {\n",
              "      background-color: #434B5C;\n",
              "      box-shadow: 0px 1px 3px 1px rgba(0, 0, 0, 0.15);\n",
              "      filter: drop-shadow(0px 1px 2px rgba(0, 0, 0, 0.3));\n",
              "      fill: #FFFFFF;\n",
              "    }\n",
              "  </style>\n",
              "\n",
              "      <script>\n",
              "        const buttonEl =\n",
              "          document.querySelector('#df-3b723302-925c-4ea2-a42b-4030a7fc0d24 button.colab-df-convert');\n",
              "        buttonEl.style.display =\n",
              "          google.colab.kernel.accessAllowed ? 'block' : 'none';\n",
              "\n",
              "        async function convertToInteractive(key) {\n",
              "          const element = document.querySelector('#df-3b723302-925c-4ea2-a42b-4030a7fc0d24');\n",
              "          const dataTable =\n",
              "            await google.colab.kernel.invokeFunction('convertToInteractive',\n",
              "                                                     [key], {});\n",
              "          if (!dataTable) return;\n",
              "\n",
              "          const docLinkHtml = 'Like what you see? Visit the ' +\n",
              "            '<a target=\"_blank\" href=https://colab.research.google.com/notebooks/data_table.ipynb>data table notebook</a>'\n",
              "            + ' to learn more about interactive tables.';\n",
              "          element.innerHTML = '';\n",
              "          dataTable['output_type'] = 'display_data';\n",
              "          await google.colab.output.renderOutput(dataTable, element);\n",
              "          const docLink = document.createElement('div');\n",
              "          docLink.innerHTML = docLinkHtml;\n",
              "          element.appendChild(docLink);\n",
              "        }\n",
              "      </script>\n",
              "    </div>\n",
              "  </div>\n",
              "  "
            ]
          },
          "metadata": {},
          "execution_count": 9
        }
      ]
    },
    {
      "cell_type": "code",
      "source": [
        "### identify sentences with varied polarities\n",
        "pct = pd.crosstab(train['sentence'], train['polarity'])\n",
        "pct['sum'] = pct['negative'] + pct['positive'] + pct['neutral']\n",
        "top10 = pct[pct['sum']>1].sort_values('sum', ascending = False)[['positive','neutral','negative']][:20]\n",
        "top10"
      ],
      "metadata": {
        "colab": {
          "base_uri": "https://localhost:8080/",
          "height": 1000
        },
        "id": "mStw1K4XObm3",
        "outputId": "d55fb89b-4ddb-4d65-c48b-5c8b94548973"
      },
      "execution_count": null,
      "outputs": [
        {
          "output_type": "execute_result",
          "data": {
            "text/plain": [
              "polarity                                            positive  neutral  \\\n",
              "sentence                                                                \n",
              "There are several programs for school or office...         0       13   \n",
              "I run Dreamweaver, Final Cut Pro 7, Photoshop, ...         0        7   \n",
              "The computer runs very fast with no problems an...         7        0   \n",
              "That included the extra Sony Sonic Stage softwa...         2        4   \n",
              "I also purchased iWork to go with it which has ...         0        6   \n",
              "the headphone and mic jack are in front of touc...         0        1   \n",
              "It has a 10 hour battery life when you're doing...         2        4   \n",
              "The dv4 boasted a faster processor, more memory...         6        0   \n",
              "Even though it is running Snow Leopard, 2.4 GHz...         1        0   \n",
              "The 13\" Macbook Pro just fits in my budget and ...         6        0   \n",
              "Screen, keyboard, and mouse: If you cant see yo...         3        3   \n",
              "This laptop looks great on the surface: 17\" inc...         5        0   \n",
              "I just plug this into my 22\" Monitor and the sp...         2        3   \n",
              "  We have had numerous problems with Vista, suc...         0        0   \n",
              "The Mac Snow Leopard O/S is extremely easy to u...         2        3   \n",
              "The processor screams, and because of the uniqu...         3        2   \n",
              "Overall : Poor, Features: Average, Performance:...         1        1   \n",
              "  The board has a bad connector with the power ...         0        0   \n",
              "Externally the keys on my keyboard are falling ...         0        0   \n",
              "Only other thing is that if you are using this ...         1        2   \n",
              "\n",
              "polarity                                            negative  \n",
              "sentence                                                      \n",
              "There are several programs for school or office...         0  \n",
              "I run Dreamweaver, Final Cut Pro 7, Photoshop, ...         0  \n",
              "The computer runs very fast with no problems an...         0  \n",
              "That included the extra Sony Sonic Stage softwa...         1  \n",
              "I also purchased iWork to go with it which has ...         0  \n",
              "the headphone and mic jack are in front of touc...         5  \n",
              "It has a 10 hour battery life when you're doing...         0  \n",
              "The dv4 boasted a faster processor, more memory...         0  \n",
              "Even though it is running Snow Leopard, 2.4 GHz...         5  \n",
              "The 13\" Macbook Pro just fits in my budget and ...         0  \n",
              "Screen, keyboard, and mouse: If you cant see yo...         0  \n",
              "This laptop looks great on the surface: 17\" inc...         0  \n",
              "I just plug this into my 22\" Monitor and the sp...         0  \n",
              "  We have had numerous problems with Vista, suc...         5  \n",
              "The Mac Snow Leopard O/S is extremely easy to u...         0  \n",
              "The processor screams, and because of the uniqu...         0  \n",
              "Overall : Poor, Features: Average, Performance:...         3  \n",
              "  The board has a bad connector with the power ...         5  \n",
              "Externally the keys on my keyboard are falling ...         5  \n",
              "Only other thing is that if you are using this ...         2  "
            ],
            "text/html": [
              "\n",
              "  <div id=\"df-47090a21-e7f6-4b8b-9b33-b9d64e301cd2\">\n",
              "    <div class=\"colab-df-container\">\n",
              "      <div>\n",
              "<style scoped>\n",
              "    .dataframe tbody tr th:only-of-type {\n",
              "        vertical-align: middle;\n",
              "    }\n",
              "\n",
              "    .dataframe tbody tr th {\n",
              "        vertical-align: top;\n",
              "    }\n",
              "\n",
              "    .dataframe thead th {\n",
              "        text-align: right;\n",
              "    }\n",
              "</style>\n",
              "<table border=\"1\" class=\"dataframe\">\n",
              "  <thead>\n",
              "    <tr style=\"text-align: right;\">\n",
              "      <th>polarity</th>\n",
              "      <th>positive</th>\n",
              "      <th>neutral</th>\n",
              "      <th>negative</th>\n",
              "    </tr>\n",
              "    <tr>\n",
              "      <th>sentence</th>\n",
              "      <th></th>\n",
              "      <th></th>\n",
              "      <th></th>\n",
              "    </tr>\n",
              "  </thead>\n",
              "  <tbody>\n",
              "    <tr>\n",
              "      <th>There are several programs for school or office use (Pages, Numbers, Keynote, etc.), music (Garageband), photo management (Photo Booth, iPhoto), video-editing or movie-making (iMovie), etc.</th>\n",
              "      <td>0</td>\n",
              "      <td>13</td>\n",
              "      <td>0</td>\n",
              "    </tr>\n",
              "    <tr>\n",
              "      <th>I run Dreamweaver, Final Cut Pro 7, Photoshop, Safari, Firefox, MSN Messenger and a few other applications constantly at the same time.</th>\n",
              "      <td>0</td>\n",
              "      <td>7</td>\n",
              "      <td>0</td>\n",
              "    </tr>\n",
              "    <tr>\n",
              "      <th>The computer runs very fast with no problems and the iLife software that comes with it (iPhoto, iMovie, iWeb, iTunes, GarageBand) is all very helpful as well.</th>\n",
              "      <td>7</td>\n",
              "      <td>0</td>\n",
              "      <td>0</td>\n",
              "    </tr>\n",
              "    <tr>\n",
              "      <th>That included the extra Sony Sonic Stage software, the speakers and the subwoofer I got (that WAS worth the money), the bluetooth mouse for my supposedly bluetooth enabled computer, the extended life battery and the Docking port.</th>\n",
              "      <td>2</td>\n",
              "      <td>4</td>\n",
              "      <td>1</td>\n",
              "    </tr>\n",
              "    <tr>\n",
              "      <th>I also purchased iWork to go with it which has programs for word processing, spreadsheets, and presentations (similar to Microsoft Office).</th>\n",
              "      <td>0</td>\n",
              "      <td>6</td>\n",
              "      <td>0</td>\n",
              "    </tr>\n",
              "    <tr>\n",
              "      <th>the headphone and mic jack are in front of touch-pad making the touch-pad hard to use when using headphones/mic, not to mention the laptop was designed for right handed person.</th>\n",
              "      <td>0</td>\n",
              "      <td>1</td>\n",
              "      <td>5</td>\n",
              "    </tr>\n",
              "    <tr>\n",
              "      <th>It has a 10 hour battery life when you're doing web browsing and word editing, making it perfect for the classroom or office, and in terms of gaming and movie playing it'll have a battery life of just over 5 hours.</th>\n",
              "      <td>2</td>\n",
              "      <td>4</td>\n",
              "      <td>0</td>\n",
              "    </tr>\n",
              "    <tr>\n",
              "      <th>The dv4 boasted a faster processor, more memory, and a bigger hard drive than my old computer, plus a better quality web cam, nicer screen, and many other features.</th>\n",
              "      <td>6</td>\n",
              "      <td>0</td>\n",
              "      <td>0</td>\n",
              "    </tr>\n",
              "    <tr>\n",
              "      <th>Even though it is running Snow Leopard, 2.4 GHz C2D is a bit of an antiquated CPU and thus the occasional spinning wheel would appear when running Office Mac applications such as Word or Excel.</th>\n",
              "      <td>1</td>\n",
              "      <td>0</td>\n",
              "      <td>5</td>\n",
              "    </tr>\n",
              "    <tr>\n",
              "      <th>The 13\" Macbook Pro just fits in my budget and with free shipping and no tax to CA this is the best price we can get for a great product.</th>\n",
              "      <td>6</td>\n",
              "      <td>0</td>\n",
              "      <td>0</td>\n",
              "    </tr>\n",
              "    <tr>\n",
              "      <th>Screen, keyboard, and mouse: If you cant see yourself spending the extra money to jump up to a Mac the beautiful screen, responsive island backlit keyboard, and fun multi-touch mouse is worth the extra money to me alone.</th>\n",
              "      <td>3</td>\n",
              "      <td>3</td>\n",
              "      <td>0</td>\n",
              "    </tr>\n",
              "    <tr>\n",
              "      <th>This laptop looks great on the surface: 17\" inch screen, good  price-point, nice appearance, boots up quickly, runs fast etc.</th>\n",
              "      <td>5</td>\n",
              "      <td>0</td>\n",
              "      <td>0</td>\n",
              "    </tr>\n",
              "    <tr>\n",
              "      <th>I just plug this into my 22\" Monitor and the speedy MacOSX performs just as well on this dual-core that my Dell did with Windows 7 with a quad-core.</th>\n",
              "      <td>2</td>\n",
              "      <td>3</td>\n",
              "      <td>0</td>\n",
              "    </tr>\n",
              "    <tr>\n",
              "      <th>We have had numerous problems with Vista, such as Adobe Flash player just quits and has to be uninstalled and then reinsalled, Internet Explore just quits and you lose whatever you were working on, also, the same Windows update has appeared on this computer since we got it and has been updated probably 400 times, the same update.</th>\n",
              "      <td>0</td>\n",
              "      <td>0</td>\n",
              "      <td>5</td>\n",
              "    </tr>\n",
              "    <tr>\n",
              "      <th>The Mac Snow Leopard O/S is extremely easy to use, although very different than Win XP, Visa or Win7.</th>\n",
              "      <td>2</td>\n",
              "      <td>3</td>\n",
              "      <td>0</td>\n",
              "    </tr>\n",
              "    <tr>\n",
              "      <th>The processor screams, and because of the unique way that Apple OSX 16 functions, most of the graphics are routed through the hardware rather than the software.</th>\n",
              "      <td>3</td>\n",
              "      <td>2</td>\n",
              "      <td>0</td>\n",
              "    </tr>\n",
              "    <tr>\n",
              "      <th>Overall : Poor, Features: Average, Performance: Poor, Battery Life: Excellent, Price-Value: Poor</th>\n",
              "      <td>1</td>\n",
              "      <td>1</td>\n",
              "      <td>3</td>\n",
              "    </tr>\n",
              "    <tr>\n",
              "      <th>The board has a bad connector with the power supply and shortly after warrenty expires the power supply will start having issues.</th>\n",
              "      <td>0</td>\n",
              "      <td>0</td>\n",
              "      <td>5</td>\n",
              "    </tr>\n",
              "    <tr>\n",
              "      <th>Externally the keys on my keyboard are falling off, after a few uses the paint is rubbing off the button below the mouse pad and where the heals of my hands sit, and the screen has a terrible glare.</th>\n",
              "      <td>0</td>\n",
              "      <td>0</td>\n",
              "      <td>5</td>\n",
              "    </tr>\n",
              "    <tr>\n",
              "      <th>Only other thing is that if you are using this for document creation Apple doesnt provide any kind of word processor (such as works for windows), but iwork is cheap compared to office.</th>\n",
              "      <td>1</td>\n",
              "      <td>2</td>\n",
              "      <td>2</td>\n",
              "    </tr>\n",
              "  </tbody>\n",
              "</table>\n",
              "</div>\n",
              "      <button class=\"colab-df-convert\" onclick=\"convertToInteractive('df-47090a21-e7f6-4b8b-9b33-b9d64e301cd2')\"\n",
              "              title=\"Convert this dataframe to an interactive table.\"\n",
              "              style=\"display:none;\">\n",
              "        \n",
              "  <svg xmlns=\"http://www.w3.org/2000/svg\" height=\"24px\"viewBox=\"0 0 24 24\"\n",
              "       width=\"24px\">\n",
              "    <path d=\"M0 0h24v24H0V0z\" fill=\"none\"/>\n",
              "    <path d=\"M18.56 5.44l.94 2.06.94-2.06 2.06-.94-2.06-.94-.94-2.06-.94 2.06-2.06.94zm-11 1L8.5 8.5l.94-2.06 2.06-.94-2.06-.94L8.5 2.5l-.94 2.06-2.06.94zm10 10l.94 2.06.94-2.06 2.06-.94-2.06-.94-.94-2.06-.94 2.06-2.06.94z\"/><path d=\"M17.41 7.96l-1.37-1.37c-.4-.4-.92-.59-1.43-.59-.52 0-1.04.2-1.43.59L10.3 9.45l-7.72 7.72c-.78.78-.78 2.05 0 2.83L4 21.41c.39.39.9.59 1.41.59.51 0 1.02-.2 1.41-.59l7.78-7.78 2.81-2.81c.8-.78.8-2.07 0-2.86zM5.41 20L4 18.59l7.72-7.72 1.47 1.35L5.41 20z\"/>\n",
              "  </svg>\n",
              "      </button>\n",
              "      \n",
              "  <style>\n",
              "    .colab-df-container {\n",
              "      display:flex;\n",
              "      flex-wrap:wrap;\n",
              "      gap: 12px;\n",
              "    }\n",
              "\n",
              "    .colab-df-convert {\n",
              "      background-color: #E8F0FE;\n",
              "      border: none;\n",
              "      border-radius: 50%;\n",
              "      cursor: pointer;\n",
              "      display: none;\n",
              "      fill: #1967D2;\n",
              "      height: 32px;\n",
              "      padding: 0 0 0 0;\n",
              "      width: 32px;\n",
              "    }\n",
              "\n",
              "    .colab-df-convert:hover {\n",
              "      background-color: #E2EBFA;\n",
              "      box-shadow: 0px 1px 2px rgba(60, 64, 67, 0.3), 0px 1px 3px 1px rgba(60, 64, 67, 0.15);\n",
              "      fill: #174EA6;\n",
              "    }\n",
              "\n",
              "    [theme=dark] .colab-df-convert {\n",
              "      background-color: #3B4455;\n",
              "      fill: #D2E3FC;\n",
              "    }\n",
              "\n",
              "    [theme=dark] .colab-df-convert:hover {\n",
              "      background-color: #434B5C;\n",
              "      box-shadow: 0px 1px 3px 1px rgba(0, 0, 0, 0.15);\n",
              "      filter: drop-shadow(0px 1px 2px rgba(0, 0, 0, 0.3));\n",
              "      fill: #FFFFFF;\n",
              "    }\n",
              "  </style>\n",
              "\n",
              "      <script>\n",
              "        const buttonEl =\n",
              "          document.querySelector('#df-47090a21-e7f6-4b8b-9b33-b9d64e301cd2 button.colab-df-convert');\n",
              "        buttonEl.style.display =\n",
              "          google.colab.kernel.accessAllowed ? 'block' : 'none';\n",
              "\n",
              "        async function convertToInteractive(key) {\n",
              "          const element = document.querySelector('#df-47090a21-e7f6-4b8b-9b33-b9d64e301cd2');\n",
              "          const dataTable =\n",
              "            await google.colab.kernel.invokeFunction('convertToInteractive',\n",
              "                                                     [key], {});\n",
              "          if (!dataTable) return;\n",
              "\n",
              "          const docLinkHtml = 'Like what you see? Visit the ' +\n",
              "            '<a target=\"_blank\" href=https://colab.research.google.com/notebooks/data_table.ipynb>data table notebook</a>'\n",
              "            + ' to learn more about interactive tables.';\n",
              "          element.innerHTML = '';\n",
              "          dataTable['output_type'] = 'display_data';\n",
              "          await google.colab.output.renderOutput(dataTable, element);\n",
              "          const docLink = document.createElement('div');\n",
              "          docLink.innerHTML = docLinkHtml;\n",
              "          element.appendChild(docLink);\n",
              "        }\n",
              "      </script>\n",
              "    </div>\n",
              "  </div>\n",
              "  "
            ]
          },
          "metadata": {},
          "execution_count": 10
        }
      ]
    },
    {
      "cell_type": "code",
      "source": [
        "print('Only other thing is that if you are using this for document creation Apple doesnt provide any kind of word processor (such as works for windows), but iwork is cheap compared to office.')\n",
        "train[train['sentence'] == 'Only other thing is that if you are using this for document creation Apple doesnt provide any kind of word processor (such as works for windows), but iwork is cheap compared to office.']"
      ],
      "metadata": {
        "colab": {
          "base_uri": "https://localhost:8080/",
          "height": 243
        },
        "id": "glpOEap9Oomd",
        "outputId": "3fea4f54-d454-411c-ed3a-8a43e463a858"
      },
      "execution_count": null,
      "outputs": [
        {
          "output_type": "stream",
          "name": "stdout",
          "text": [
            "Only other thing is that if you are using this for document creation Apple doesnt provide any kind of word processor (such as works for windows), but iwork is cheap compared to office.\n"
          ]
        },
        {
          "output_type": "execute_result",
          "data": {
            "text/plain": [
              "     index  polarity               term      id  \\\n",
              "113  17492  negative             office  1749_2   \n",
              "114  17493   neutral            windows  1749_3   \n",
              "115  17490  positive              iwork  1749_0   \n",
              "116  17491  negative     word processor  1749_1   \n",
              "117  17494   neutral  document creation  1749_4   \n",
              "\n",
              "                                              sentence  \n",
              "113  Only other thing is that if you are using this...  \n",
              "114  Only other thing is that if you are using this...  \n",
              "115  Only other thing is that if you are using this...  \n",
              "116  Only other thing is that if you are using this...  \n",
              "117  Only other thing is that if you are using this...  "
            ],
            "text/html": [
              "\n",
              "  <div id=\"df-79f0ddb8-0931-43b0-be20-74b780e63ea4\">\n",
              "    <div class=\"colab-df-container\">\n",
              "      <div>\n",
              "<style scoped>\n",
              "    .dataframe tbody tr th:only-of-type {\n",
              "        vertical-align: middle;\n",
              "    }\n",
              "\n",
              "    .dataframe tbody tr th {\n",
              "        vertical-align: top;\n",
              "    }\n",
              "\n",
              "    .dataframe thead th {\n",
              "        text-align: right;\n",
              "    }\n",
              "</style>\n",
              "<table border=\"1\" class=\"dataframe\">\n",
              "  <thead>\n",
              "    <tr style=\"text-align: right;\">\n",
              "      <th></th>\n",
              "      <th>index</th>\n",
              "      <th>polarity</th>\n",
              "      <th>term</th>\n",
              "      <th>id</th>\n",
              "      <th>sentence</th>\n",
              "    </tr>\n",
              "  </thead>\n",
              "  <tbody>\n",
              "    <tr>\n",
              "      <th>113</th>\n",
              "      <td>17492</td>\n",
              "      <td>negative</td>\n",
              "      <td>office</td>\n",
              "      <td>1749_2</td>\n",
              "      <td>Only other thing is that if you are using this...</td>\n",
              "    </tr>\n",
              "    <tr>\n",
              "      <th>114</th>\n",
              "      <td>17493</td>\n",
              "      <td>neutral</td>\n",
              "      <td>windows</td>\n",
              "      <td>1749_3</td>\n",
              "      <td>Only other thing is that if you are using this...</td>\n",
              "    </tr>\n",
              "    <tr>\n",
              "      <th>115</th>\n",
              "      <td>17490</td>\n",
              "      <td>positive</td>\n",
              "      <td>iwork</td>\n",
              "      <td>1749_0</td>\n",
              "      <td>Only other thing is that if you are using this...</td>\n",
              "    </tr>\n",
              "    <tr>\n",
              "      <th>116</th>\n",
              "      <td>17491</td>\n",
              "      <td>negative</td>\n",
              "      <td>word processor</td>\n",
              "      <td>1749_1</td>\n",
              "      <td>Only other thing is that if you are using this...</td>\n",
              "    </tr>\n",
              "    <tr>\n",
              "      <th>117</th>\n",
              "      <td>17494</td>\n",
              "      <td>neutral</td>\n",
              "      <td>document creation</td>\n",
              "      <td>1749_4</td>\n",
              "      <td>Only other thing is that if you are using this...</td>\n",
              "    </tr>\n",
              "  </tbody>\n",
              "</table>\n",
              "</div>\n",
              "      <button class=\"colab-df-convert\" onclick=\"convertToInteractive('df-79f0ddb8-0931-43b0-be20-74b780e63ea4')\"\n",
              "              title=\"Convert this dataframe to an interactive table.\"\n",
              "              style=\"display:none;\">\n",
              "        \n",
              "  <svg xmlns=\"http://www.w3.org/2000/svg\" height=\"24px\"viewBox=\"0 0 24 24\"\n",
              "       width=\"24px\">\n",
              "    <path d=\"M0 0h24v24H0V0z\" fill=\"none\"/>\n",
              "    <path d=\"M18.56 5.44l.94 2.06.94-2.06 2.06-.94-2.06-.94-.94-2.06-.94 2.06-2.06.94zm-11 1L8.5 8.5l.94-2.06 2.06-.94-2.06-.94L8.5 2.5l-.94 2.06-2.06.94zm10 10l.94 2.06.94-2.06 2.06-.94-2.06-.94-.94-2.06-.94 2.06-2.06.94z\"/><path d=\"M17.41 7.96l-1.37-1.37c-.4-.4-.92-.59-1.43-.59-.52 0-1.04.2-1.43.59L10.3 9.45l-7.72 7.72c-.78.78-.78 2.05 0 2.83L4 21.41c.39.39.9.59 1.41.59.51 0 1.02-.2 1.41-.59l7.78-7.78 2.81-2.81c.8-.78.8-2.07 0-2.86zM5.41 20L4 18.59l7.72-7.72 1.47 1.35L5.41 20z\"/>\n",
              "  </svg>\n",
              "      </button>\n",
              "      \n",
              "  <style>\n",
              "    .colab-df-container {\n",
              "      display:flex;\n",
              "      flex-wrap:wrap;\n",
              "      gap: 12px;\n",
              "    }\n",
              "\n",
              "    .colab-df-convert {\n",
              "      background-color: #E8F0FE;\n",
              "      border: none;\n",
              "      border-radius: 50%;\n",
              "      cursor: pointer;\n",
              "      display: none;\n",
              "      fill: #1967D2;\n",
              "      height: 32px;\n",
              "      padding: 0 0 0 0;\n",
              "      width: 32px;\n",
              "    }\n",
              "\n",
              "    .colab-df-convert:hover {\n",
              "      background-color: #E2EBFA;\n",
              "      box-shadow: 0px 1px 2px rgba(60, 64, 67, 0.3), 0px 1px 3px 1px rgba(60, 64, 67, 0.15);\n",
              "      fill: #174EA6;\n",
              "    }\n",
              "\n",
              "    [theme=dark] .colab-df-convert {\n",
              "      background-color: #3B4455;\n",
              "      fill: #D2E3FC;\n",
              "    }\n",
              "\n",
              "    [theme=dark] .colab-df-convert:hover {\n",
              "      background-color: #434B5C;\n",
              "      box-shadow: 0px 1px 3px 1px rgba(0, 0, 0, 0.15);\n",
              "      filter: drop-shadow(0px 1px 2px rgba(0, 0, 0, 0.3));\n",
              "      fill: #FFFFFF;\n",
              "    }\n",
              "  </style>\n",
              "\n",
              "      <script>\n",
              "        const buttonEl =\n",
              "          document.querySelector('#df-79f0ddb8-0931-43b0-be20-74b780e63ea4 button.colab-df-convert');\n",
              "        buttonEl.style.display =\n",
              "          google.colab.kernel.accessAllowed ? 'block' : 'none';\n",
              "\n",
              "        async function convertToInteractive(key) {\n",
              "          const element = document.querySelector('#df-79f0ddb8-0931-43b0-be20-74b780e63ea4');\n",
              "          const dataTable =\n",
              "            await google.colab.kernel.invokeFunction('convertToInteractive',\n",
              "                                                     [key], {});\n",
              "          if (!dataTable) return;\n",
              "\n",
              "          const docLinkHtml = 'Like what you see? Visit the ' +\n",
              "            '<a target=\"_blank\" href=https://colab.research.google.com/notebooks/data_table.ipynb>data table notebook</a>'\n",
              "            + ' to learn more about interactive tables.';\n",
              "          element.innerHTML = '';\n",
              "          dataTable['output_type'] = 'display_data';\n",
              "          await google.colab.output.renderOutput(dataTable, element);\n",
              "          const docLink = document.createElement('div');\n",
              "          docLink.innerHTML = docLinkHtml;\n",
              "          element.appendChild(docLink);\n",
              "        }\n",
              "      </script>\n",
              "    </div>\n",
              "  </div>\n",
              "  "
            ]
          },
          "metadata": {},
          "execution_count": 11
        }
      ]
    },
    {
      "cell_type": "code",
      "source": [],
      "metadata": {
        "id": "KvMsGKWlN4oX"
      },
      "execution_count": null,
      "outputs": []
    },
    {
      "cell_type": "markdown",
      "source": [
        "##### Words used in different contexts"
      ],
      "metadata": {
        "id": "Mc9mtm72yU18"
      }
    },
    {
      "cell_type": "code",
      "source": [
        "train['term'].value_counts()"
      ],
      "metadata": {
        "colab": {
          "base_uri": "https://localhost:8080/"
        },
        "id": "nyxyGOcd1_4p",
        "outputId": "45075f7d-c2d4-4455-f5bf-d9190f91dba7"
      },
      "execution_count": null,
      "outputs": [
        {
          "output_type": "execute_result",
          "data": {
            "text/plain": [
              "use                      49\n",
              "price                    48\n",
              "screen                   47\n",
              "battery life             45\n",
              "battery                  42\n",
              "                         ..\n",
              "DELL Customer Service     1\n",
              "ground loop isolator      1\n",
              "price range               1\n",
              "LED backlit display       1\n",
              "mute                      1\n",
              "Name: term, Length: 983, dtype: int64"
            ]
          },
          "metadata": {},
          "execution_count": 12
        }
      ]
    },
    {
      "cell_type": "code",
      "source": [
        "pct = pd.crosstab(train['term'], train['polarity'])"
      ],
      "metadata": {
        "id": "TEPxrDtJ1_9Y"
      },
      "execution_count": null,
      "outputs": []
    },
    {
      "cell_type": "code",
      "source": [
        "pct['sum'] = pct['negative'] + pct['positive'] + pct['neutral']"
      ],
      "metadata": {
        "id": "Cct1iweo3O9Z"
      },
      "execution_count": null,
      "outputs": []
    },
    {
      "cell_type": "code",
      "source": [
        "pct"
      ],
      "metadata": {
        "colab": {
          "base_uri": "https://localhost:8080/",
          "height": 455
        },
        "id": "Q_7Fb-na3Z52",
        "outputId": "174aeae6-2edd-47ee-cfec-e8785f1f77ce"
      },
      "execution_count": null,
      "outputs": [
        {
          "output_type": "execute_result",
          "data": {
            "text/plain": [
              "polarity         negative  neutral  positive  sum\n",
              "term                                             \n",
              "\"sales\" team            1        0         0    1\n",
              "1 GB ram                0        1         0    1\n",
              "1-year-warranty         0        1         0    1\n",
              "10-key                  0        0         1    1\n",
              "12 cell battery         0        0         1    1\n",
              "...                   ...      ...       ...  ...\n",
              "word processor          2        0         0    2\n",
              "work                    8        0         1    9\n",
              "working                 1        0         0    1\n",
              "works                   1        0        12   13\n",
              "wt                      0        0         1    1\n",
              "\n",
              "[983 rows x 4 columns]"
            ],
            "text/html": [
              "\n",
              "  <div id=\"df-a1ee3092-d3d2-4213-a662-4d2542141a83\">\n",
              "    <div class=\"colab-df-container\">\n",
              "      <div>\n",
              "<style scoped>\n",
              "    .dataframe tbody tr th:only-of-type {\n",
              "        vertical-align: middle;\n",
              "    }\n",
              "\n",
              "    .dataframe tbody tr th {\n",
              "        vertical-align: top;\n",
              "    }\n",
              "\n",
              "    .dataframe thead th {\n",
              "        text-align: right;\n",
              "    }\n",
              "</style>\n",
              "<table border=\"1\" class=\"dataframe\">\n",
              "  <thead>\n",
              "    <tr style=\"text-align: right;\">\n",
              "      <th>polarity</th>\n",
              "      <th>negative</th>\n",
              "      <th>neutral</th>\n",
              "      <th>positive</th>\n",
              "      <th>sum</th>\n",
              "    </tr>\n",
              "    <tr>\n",
              "      <th>term</th>\n",
              "      <th></th>\n",
              "      <th></th>\n",
              "      <th></th>\n",
              "      <th></th>\n",
              "    </tr>\n",
              "  </thead>\n",
              "  <tbody>\n",
              "    <tr>\n",
              "      <th>\"sales\" team</th>\n",
              "      <td>1</td>\n",
              "      <td>0</td>\n",
              "      <td>0</td>\n",
              "      <td>1</td>\n",
              "    </tr>\n",
              "    <tr>\n",
              "      <th>1 GB ram</th>\n",
              "      <td>0</td>\n",
              "      <td>1</td>\n",
              "      <td>0</td>\n",
              "      <td>1</td>\n",
              "    </tr>\n",
              "    <tr>\n",
              "      <th>1-year-warranty</th>\n",
              "      <td>0</td>\n",
              "      <td>1</td>\n",
              "      <td>0</td>\n",
              "      <td>1</td>\n",
              "    </tr>\n",
              "    <tr>\n",
              "      <th>10-key</th>\n",
              "      <td>0</td>\n",
              "      <td>0</td>\n",
              "      <td>1</td>\n",
              "      <td>1</td>\n",
              "    </tr>\n",
              "    <tr>\n",
              "      <th>12 cell battery</th>\n",
              "      <td>0</td>\n",
              "      <td>0</td>\n",
              "      <td>1</td>\n",
              "      <td>1</td>\n",
              "    </tr>\n",
              "    <tr>\n",
              "      <th>...</th>\n",
              "      <td>...</td>\n",
              "      <td>...</td>\n",
              "      <td>...</td>\n",
              "      <td>...</td>\n",
              "    </tr>\n",
              "    <tr>\n",
              "      <th>word processor</th>\n",
              "      <td>2</td>\n",
              "      <td>0</td>\n",
              "      <td>0</td>\n",
              "      <td>2</td>\n",
              "    </tr>\n",
              "    <tr>\n",
              "      <th>work</th>\n",
              "      <td>8</td>\n",
              "      <td>0</td>\n",
              "      <td>1</td>\n",
              "      <td>9</td>\n",
              "    </tr>\n",
              "    <tr>\n",
              "      <th>working</th>\n",
              "      <td>1</td>\n",
              "      <td>0</td>\n",
              "      <td>0</td>\n",
              "      <td>1</td>\n",
              "    </tr>\n",
              "    <tr>\n",
              "      <th>works</th>\n",
              "      <td>1</td>\n",
              "      <td>0</td>\n",
              "      <td>12</td>\n",
              "      <td>13</td>\n",
              "    </tr>\n",
              "    <tr>\n",
              "      <th>wt</th>\n",
              "      <td>0</td>\n",
              "      <td>0</td>\n",
              "      <td>1</td>\n",
              "      <td>1</td>\n",
              "    </tr>\n",
              "  </tbody>\n",
              "</table>\n",
              "<p>983 rows × 4 columns</p>\n",
              "</div>\n",
              "      <button class=\"colab-df-convert\" onclick=\"convertToInteractive('df-a1ee3092-d3d2-4213-a662-4d2542141a83')\"\n",
              "              title=\"Convert this dataframe to an interactive table.\"\n",
              "              style=\"display:none;\">\n",
              "        \n",
              "  <svg xmlns=\"http://www.w3.org/2000/svg\" height=\"24px\"viewBox=\"0 0 24 24\"\n",
              "       width=\"24px\">\n",
              "    <path d=\"M0 0h24v24H0V0z\" fill=\"none\"/>\n",
              "    <path d=\"M18.56 5.44l.94 2.06.94-2.06 2.06-.94-2.06-.94-.94-2.06-.94 2.06-2.06.94zm-11 1L8.5 8.5l.94-2.06 2.06-.94-2.06-.94L8.5 2.5l-.94 2.06-2.06.94zm10 10l.94 2.06.94-2.06 2.06-.94-2.06-.94-.94-2.06-.94 2.06-2.06.94z\"/><path d=\"M17.41 7.96l-1.37-1.37c-.4-.4-.92-.59-1.43-.59-.52 0-1.04.2-1.43.59L10.3 9.45l-7.72 7.72c-.78.78-.78 2.05 0 2.83L4 21.41c.39.39.9.59 1.41.59.51 0 1.02-.2 1.41-.59l7.78-7.78 2.81-2.81c.8-.78.8-2.07 0-2.86zM5.41 20L4 18.59l7.72-7.72 1.47 1.35L5.41 20z\"/>\n",
              "  </svg>\n",
              "      </button>\n",
              "      \n",
              "  <style>\n",
              "    .colab-df-container {\n",
              "      display:flex;\n",
              "      flex-wrap:wrap;\n",
              "      gap: 12px;\n",
              "    }\n",
              "\n",
              "    .colab-df-convert {\n",
              "      background-color: #E8F0FE;\n",
              "      border: none;\n",
              "      border-radius: 50%;\n",
              "      cursor: pointer;\n",
              "      display: none;\n",
              "      fill: #1967D2;\n",
              "      height: 32px;\n",
              "      padding: 0 0 0 0;\n",
              "      width: 32px;\n",
              "    }\n",
              "\n",
              "    .colab-df-convert:hover {\n",
              "      background-color: #E2EBFA;\n",
              "      box-shadow: 0px 1px 2px rgba(60, 64, 67, 0.3), 0px 1px 3px 1px rgba(60, 64, 67, 0.15);\n",
              "      fill: #174EA6;\n",
              "    }\n",
              "\n",
              "    [theme=dark] .colab-df-convert {\n",
              "      background-color: #3B4455;\n",
              "      fill: #D2E3FC;\n",
              "    }\n",
              "\n",
              "    [theme=dark] .colab-df-convert:hover {\n",
              "      background-color: #434B5C;\n",
              "      box-shadow: 0px 1px 3px 1px rgba(0, 0, 0, 0.15);\n",
              "      filter: drop-shadow(0px 1px 2px rgba(0, 0, 0, 0.3));\n",
              "      fill: #FFFFFF;\n",
              "    }\n",
              "  </style>\n",
              "\n",
              "      <script>\n",
              "        const buttonEl =\n",
              "          document.querySelector('#df-a1ee3092-d3d2-4213-a662-4d2542141a83 button.colab-df-convert');\n",
              "        buttonEl.style.display =\n",
              "          google.colab.kernel.accessAllowed ? 'block' : 'none';\n",
              "\n",
              "        async function convertToInteractive(key) {\n",
              "          const element = document.querySelector('#df-a1ee3092-d3d2-4213-a662-4d2542141a83');\n",
              "          const dataTable =\n",
              "            await google.colab.kernel.invokeFunction('convertToInteractive',\n",
              "                                                     [key], {});\n",
              "          if (!dataTable) return;\n",
              "\n",
              "          const docLinkHtml = 'Like what you see? Visit the ' +\n",
              "            '<a target=\"_blank\" href=https://colab.research.google.com/notebooks/data_table.ipynb>data table notebook</a>'\n",
              "            + ' to learn more about interactive tables.';\n",
              "          element.innerHTML = '';\n",
              "          dataTable['output_type'] = 'display_data';\n",
              "          await google.colab.output.renderOutput(dataTable, element);\n",
              "          const docLink = document.createElement('div');\n",
              "          docLink.innerHTML = docLinkHtml;\n",
              "          element.appendChild(docLink);\n",
              "        }\n",
              "      </script>\n",
              "    </div>\n",
              "  </div>\n",
              "  "
            ]
          },
          "metadata": {},
          "execution_count": 15
        }
      ]
    },
    {
      "cell_type": "code",
      "source": [
        "top10 = pct[pct['sum']>25].sort_values('sum', ascending = False)[['positive','neutral','negative']][:10]\n",
        "top10"
      ],
      "metadata": {
        "colab": {
          "base_uri": "https://localhost:8080/",
          "height": 394
        },
        "id": "PBpCtH6S3aMP",
        "outputId": "c7c4c5e2-e24b-4b9e-9b61-56645d11268d"
      },
      "execution_count": null,
      "outputs": [
        {
          "output_type": "execute_result",
          "data": {
            "text/plain": [
              "polarity      positive  neutral  negative\n",
              "term                                     \n",
              "use                 45        1         3\n",
              "price               40        2         6\n",
              "screen              23        5        19\n",
              "battery life        28        3        14\n",
              "battery              9        4        29\n",
              "keyboard            16        7        13\n",
              "programs            19        7         8\n",
              "software             9        7        15\n",
              "features            21        6         3\n",
              "warranty             5       12        12"
            ],
            "text/html": [
              "\n",
              "  <div id=\"df-da6be904-974b-46e3-b01f-f557d40c0866\">\n",
              "    <div class=\"colab-df-container\">\n",
              "      <div>\n",
              "<style scoped>\n",
              "    .dataframe tbody tr th:only-of-type {\n",
              "        vertical-align: middle;\n",
              "    }\n",
              "\n",
              "    .dataframe tbody tr th {\n",
              "        vertical-align: top;\n",
              "    }\n",
              "\n",
              "    .dataframe thead th {\n",
              "        text-align: right;\n",
              "    }\n",
              "</style>\n",
              "<table border=\"1\" class=\"dataframe\">\n",
              "  <thead>\n",
              "    <tr style=\"text-align: right;\">\n",
              "      <th>polarity</th>\n",
              "      <th>positive</th>\n",
              "      <th>neutral</th>\n",
              "      <th>negative</th>\n",
              "    </tr>\n",
              "    <tr>\n",
              "      <th>term</th>\n",
              "      <th></th>\n",
              "      <th></th>\n",
              "      <th></th>\n",
              "    </tr>\n",
              "  </thead>\n",
              "  <tbody>\n",
              "    <tr>\n",
              "      <th>use</th>\n",
              "      <td>45</td>\n",
              "      <td>1</td>\n",
              "      <td>3</td>\n",
              "    </tr>\n",
              "    <tr>\n",
              "      <th>price</th>\n",
              "      <td>40</td>\n",
              "      <td>2</td>\n",
              "      <td>6</td>\n",
              "    </tr>\n",
              "    <tr>\n",
              "      <th>screen</th>\n",
              "      <td>23</td>\n",
              "      <td>5</td>\n",
              "      <td>19</td>\n",
              "    </tr>\n",
              "    <tr>\n",
              "      <th>battery life</th>\n",
              "      <td>28</td>\n",
              "      <td>3</td>\n",
              "      <td>14</td>\n",
              "    </tr>\n",
              "    <tr>\n",
              "      <th>battery</th>\n",
              "      <td>9</td>\n",
              "      <td>4</td>\n",
              "      <td>29</td>\n",
              "    </tr>\n",
              "    <tr>\n",
              "      <th>keyboard</th>\n",
              "      <td>16</td>\n",
              "      <td>7</td>\n",
              "      <td>13</td>\n",
              "    </tr>\n",
              "    <tr>\n",
              "      <th>programs</th>\n",
              "      <td>19</td>\n",
              "      <td>7</td>\n",
              "      <td>8</td>\n",
              "    </tr>\n",
              "    <tr>\n",
              "      <th>software</th>\n",
              "      <td>9</td>\n",
              "      <td>7</td>\n",
              "      <td>15</td>\n",
              "    </tr>\n",
              "    <tr>\n",
              "      <th>features</th>\n",
              "      <td>21</td>\n",
              "      <td>6</td>\n",
              "      <td>3</td>\n",
              "    </tr>\n",
              "    <tr>\n",
              "      <th>warranty</th>\n",
              "      <td>5</td>\n",
              "      <td>12</td>\n",
              "      <td>12</td>\n",
              "    </tr>\n",
              "  </tbody>\n",
              "</table>\n",
              "</div>\n",
              "      <button class=\"colab-df-convert\" onclick=\"convertToInteractive('df-da6be904-974b-46e3-b01f-f557d40c0866')\"\n",
              "              title=\"Convert this dataframe to an interactive table.\"\n",
              "              style=\"display:none;\">\n",
              "        \n",
              "  <svg xmlns=\"http://www.w3.org/2000/svg\" height=\"24px\"viewBox=\"0 0 24 24\"\n",
              "       width=\"24px\">\n",
              "    <path d=\"M0 0h24v24H0V0z\" fill=\"none\"/>\n",
              "    <path d=\"M18.56 5.44l.94 2.06.94-2.06 2.06-.94-2.06-.94-.94-2.06-.94 2.06-2.06.94zm-11 1L8.5 8.5l.94-2.06 2.06-.94-2.06-.94L8.5 2.5l-.94 2.06-2.06.94zm10 10l.94 2.06.94-2.06 2.06-.94-2.06-.94-.94-2.06-.94 2.06-2.06.94z\"/><path d=\"M17.41 7.96l-1.37-1.37c-.4-.4-.92-.59-1.43-.59-.52 0-1.04.2-1.43.59L10.3 9.45l-7.72 7.72c-.78.78-.78 2.05 0 2.83L4 21.41c.39.39.9.59 1.41.59.51 0 1.02-.2 1.41-.59l7.78-7.78 2.81-2.81c.8-.78.8-2.07 0-2.86zM5.41 20L4 18.59l7.72-7.72 1.47 1.35L5.41 20z\"/>\n",
              "  </svg>\n",
              "      </button>\n",
              "      \n",
              "  <style>\n",
              "    .colab-df-container {\n",
              "      display:flex;\n",
              "      flex-wrap:wrap;\n",
              "      gap: 12px;\n",
              "    }\n",
              "\n",
              "    .colab-df-convert {\n",
              "      background-color: #E8F0FE;\n",
              "      border: none;\n",
              "      border-radius: 50%;\n",
              "      cursor: pointer;\n",
              "      display: none;\n",
              "      fill: #1967D2;\n",
              "      height: 32px;\n",
              "      padding: 0 0 0 0;\n",
              "      width: 32px;\n",
              "    }\n",
              "\n",
              "    .colab-df-convert:hover {\n",
              "      background-color: #E2EBFA;\n",
              "      box-shadow: 0px 1px 2px rgba(60, 64, 67, 0.3), 0px 1px 3px 1px rgba(60, 64, 67, 0.15);\n",
              "      fill: #174EA6;\n",
              "    }\n",
              "\n",
              "    [theme=dark] .colab-df-convert {\n",
              "      background-color: #3B4455;\n",
              "      fill: #D2E3FC;\n",
              "    }\n",
              "\n",
              "    [theme=dark] .colab-df-convert:hover {\n",
              "      background-color: #434B5C;\n",
              "      box-shadow: 0px 1px 3px 1px rgba(0, 0, 0, 0.15);\n",
              "      filter: drop-shadow(0px 1px 2px rgba(0, 0, 0, 0.3));\n",
              "      fill: #FFFFFF;\n",
              "    }\n",
              "  </style>\n",
              "\n",
              "      <script>\n",
              "        const buttonEl =\n",
              "          document.querySelector('#df-da6be904-974b-46e3-b01f-f557d40c0866 button.colab-df-convert');\n",
              "        buttonEl.style.display =\n",
              "          google.colab.kernel.accessAllowed ? 'block' : 'none';\n",
              "\n",
              "        async function convertToInteractive(key) {\n",
              "          const element = document.querySelector('#df-da6be904-974b-46e3-b01f-f557d40c0866');\n",
              "          const dataTable =\n",
              "            await google.colab.kernel.invokeFunction('convertToInteractive',\n",
              "                                                     [key], {});\n",
              "          if (!dataTable) return;\n",
              "\n",
              "          const docLinkHtml = 'Like what you see? Visit the ' +\n",
              "            '<a target=\"_blank\" href=https://colab.research.google.com/notebooks/data_table.ipynb>data table notebook</a>'\n",
              "            + ' to learn more about interactive tables.';\n",
              "          element.innerHTML = '';\n",
              "          dataTable['output_type'] = 'display_data';\n",
              "          await google.colab.output.renderOutput(dataTable, element);\n",
              "          const docLink = document.createElement('div');\n",
              "          docLink.innerHTML = docLinkHtml;\n",
              "          element.appendChild(docLink);\n",
              "        }\n",
              "      </script>\n",
              "    </div>\n",
              "  </div>\n",
              "  "
            ]
          },
          "metadata": {},
          "execution_count": 16
        }
      ]
    },
    {
      "cell_type": "code",
      "source": [
        "df = pd.DataFrame(top10)\n",
        "\n",
        "# Plot a bar plot with multiple adjacent bars for each index\n",
        "df.plot.bar()\n",
        "plt.title('Sentiment split for most frequent aspects in laptop training data')\n",
        "plt.xlabel('Most frequent aspects')\n",
        "plt.ylabel('Counts')\n",
        "plt.legend()\n",
        "plt.xticks(rotation = 45)\n",
        "plt.show()"
      ],
      "metadata": {
        "colab": {
          "base_uri": "https://localhost:8080/",
          "height": 522
        },
        "id": "DEO9YRvZ4gYI",
        "outputId": "cef70329-53b5-45c2-9e6b-6a9092a1f260"
      },
      "execution_count": null,
      "outputs": [
        {
          "output_type": "display_data",
          "data": {
            "text/plain": [
              "<Figure size 640x480 with 1 Axes>"
            ],
            "image/png": "[encoded data removed]"
          },
          "metadata": {}
        }
      ]
    },
    {
      "cell_type": "markdown",
      "source": [
        "##### Problematic aspects"
      ],
      "metadata": {
        "id": "_nSfbPMWyKy7"
      }
    },
    {
      "cell_type": "markdown",
      "source": [
        "###### Aspects with punctuation"
      ],
      "metadata": {
        "id": "zfnBGtC26tPr"
      }
    },
    {
      "cell_type": "code",
      "source": [
        "train['term'][train['term'].str.contains(r'\\b\\w*[^\\w\\s]+\\w*\\b')]"
      ],
      "metadata": {
        "colab": {
          "base_uri": "https://localhost:8080/"
        },
        "id": "tvhiaO2P68YR",
        "outputId": "467f80fa-d21f-4f19-fd0d-cac38e3dc5e7"
      },
      "execution_count": null,
      "outputs": [
        {
          "output_type": "execute_result",
          "data": {
            "text/plain": [
              "10                                multi-touch mouse\n",
              "36                                           10-key\n",
              "71                                built-in wireless\n",
              "91                                  built-in camera\n",
              "109                                    S-video port\n",
              "250                               one-year warranty\n",
              "265                                   PC's keyboard\n",
              "285                         bluray read/write drive\n",
              "402                                 1-year-warranty\n",
              "413                      Dell's customer disservice\n",
              "429                            multi-touch gestures\n",
              "461                        drivers/applications DVD\n",
              "530                            multi-touch features\n",
              "608                            Mac Snow Leopard O/S\n",
              "641                                    movie-making\n",
              "642                                   video-editing\n",
              "653                                       touch-pad\n",
              "688                               security-prone OS\n",
              "703                                 built-in webcam\n",
              "704                                    built-in mic\n",
              "773                             Intel built-in card\n",
              "822                                  17-inch screen\n",
              "833                                       touch-pad\n",
              "879      magnetic plug-in power charging power cord\n",
              "1022                   Office Max's \"Max Assurance\"\n",
              "1099    pre-loaded Norton Firewall/Security program\n",
              "1133                       Drivers/Applications DVD\n",
              "1211                                      burn cd's\n",
              "1262                                    price-point\n",
              "1358                                built-in webcam\n",
              "1448                               starting-up time\n",
              "1488                         driver/application DVD\n",
              "1539                          multi-touch track pad\n",
              "1891                        screen/video resolution\n",
              "1936                                    touch-mouse\n",
              "2097                                      dual-core\n",
              "2098                                      quad-core\n",
              "2150                           multi-touch trackpad\n",
              "Name: term, dtype: object"
            ]
          },
          "metadata": {},
          "execution_count": 18
        }
      ]
    },
    {
      "cell_type": "markdown",
      "source": [
        "###### Aspects Typos"
      ],
      "metadata": {
        "id": "9_nVN9PIBzyF"
      }
    },
    {
      "cell_type": "code",
      "source": [
        "pip install pyspellchecker"
      ],
      "metadata": {
        "id": "6c4KMhqfAMXt"
      },
      "execution_count": null,
      "outputs": []
    },
    {
      "cell_type": "code",
      "source": [
        "from spellchecker import SpellChecker\n",
        "spell = SpellChecker()"
      ],
      "metadata": {
        "id": "z5XcjwONANaG"
      },
      "execution_count": null,
      "outputs": []
    },
    {
      "cell_type": "code",
      "source": [
        "(train['term'] == 'consistancy').any()"
      ],
      "metadata": {
        "id": "EorQE540Bcve"
      },
      "execution_count": null,
      "outputs": []
    },
    {
      "cell_type": "code",
      "source": [
        "sorted(train['term'].apply(lambda x: [word for word in x.split() if word.lower() not in spell]),  key = len, reverse=True)[:50]"
      ],
      "metadata": {
        "id": "LiCq1aLMASo8"
      },
      "execution_count": null,
      "outputs": []
    },
    {
      "cell_type": "markdown",
      "source": [
        "###### Reviews Typos"
      ],
      "metadata": {
        "id": "3g9_8PMKB3dN"
      }
    },
    {
      "cell_type": "code",
      "source": [
        "sorted(train['sentence'].apply(lambda x: [word for word in x.split() if word.lower() not in spell]),  key = len, reverse=True)[:50]"
      ],
      "metadata": {
        "id": "0UcChmrUASrb"
      },
      "execution_count": null,
      "outputs": []
    },
    {
      "cell_type": "markdown",
      "source": [
        "##### Unusual lengths"
      ],
      "metadata": {
        "id": "NUlpSWHO_53l"
      }
    },
    {
      "cell_type": "markdown",
      "source": [
        "###### Aspects"
      ],
      "metadata": {
        "id": "6qJ0xf4w6tRz"
      }
    },
    {
      "cell_type": "code",
      "source": [
        "text_lengths = train['term'].str.len()\n",
        "distribution = text_lengths.value_counts().sort_index()\n",
        "\n",
        "# Plot the distribution\n",
        "plt.bar(distribution.index, distribution.values)\n",
        "plt.xlabel('Aspect Length (number of characters)')\n",
        "plt.ylabel('Count')\n",
        "plt.title('Aspect Length Distribution')\n",
        "plt.show()"
      ],
      "metadata": {
        "colab": {
          "base_uri": "https://localhost:8080/",
          "height": 472
        },
        "id": "5oElN3-M_FLB",
        "outputId": "926f25eb-8dd6-43de-91ce-30979840df5a"
      },
      "execution_count": null,
      "outputs": [
        {
          "output_type": "display_data",
          "data": {
            "text/plain": [
              "<Figure size 640x480 with 1 Axes>"
            ],
            "image/png": "[encoded data removed]"
          },
          "metadata": {}
        }
      ]
    },
    {
      "cell_type": "code",
      "source": [
        "for i in train.sort_values(by='term', key=lambda x: x.str.len(), ascending=False)['term'][:10].values:\n",
        "  print(i)"
      ],
      "metadata": {
        "colab": {
          "base_uri": "https://localhost:8080/"
        },
        "id": "t0ZUDp2qu_lR",
        "outputId": "0f95d04c-02e8-46b3-faa6-6084825cb4fb"
      },
      "execution_count": null,
      "outputs": [
        {
          "output_type": "stream",
          "name": "stdout",
          "text": [
            "pre-loaded Norton Firewall/Security program\n",
            "magnetic plug-in power charging power cord\n",
            "virus protection programs for a Mac\n",
            "hook up to other wireless networks\n",
            "Core Processing Unit temperatures\n",
            "Mac version of Microsoft Office\n",
            "combined touch pad and clicker\n",
            "pre installed software update\n",
            "connection with the internet\n",
            "Office Max's \"Max Assurance\"\n"
          ]
        }
      ]
    },
    {
      "cell_type": "code",
      "source": [
        "for i in train.sort_values(by='term', key=lambda x: x.str.len(), ascending=False)['term'][-30:].values:\n",
        "  print(i)"
      ],
      "metadata": {
        "colab": {
          "base_uri": "https://localhost:8080/"
        },
        "id": "2S14597m8avC",
        "outputId": "e2ca6d35-4636-4dec-f349-2f6adc74cd09"
      },
      "execution_count": null,
      "outputs": [
        {
          "output_type": "stream",
          "name": "stdout",
          "text": [
            "LCD\n",
            "use\n",
            "use\n",
            "run\n",
            "use\n",
            "use\n",
            "USB\n",
            "run\n",
            "use\n",
            "use\n",
            "use\n",
            "RAM\n",
            "wt\n",
            "OS\n",
            "OS\n",
            "OS\n",
            "i7\n",
            "OS\n",
            "OS\n",
            "HD\n",
            "OS\n",
            "OS\n",
            "XP\n",
            "HD\n",
            "XP\n",
            "i5\n",
            "OS\n",
            "OS\n",
            "HD\n",
            "HD\n"
          ]
        }
      ]
    },
    {
      "cell_type": "code",
      "source": [
        "min(train['term'], key=len)"
      ],
      "metadata": {
        "id": "JztY6TuS-d5f"
      },
      "execution_count": null,
      "outputs": []
    },
    {
      "cell_type": "code",
      "source": [
        "max(train['term'], key=len)"
      ],
      "metadata": {
        "id": "TWvJnmwV-gSY"
      },
      "execution_count": null,
      "outputs": []
    },
    {
      "cell_type": "code",
      "source": [],
      "metadata": {
        "id": "DqWXSygY-eRQ"
      },
      "execution_count": null,
      "outputs": []
    },
    {
      "cell_type": "markdown",
      "source": [
        "###### Reviews"
      ],
      "metadata": {
        "id": "8umNoVAw8j17"
      }
    },
    {
      "cell_type": "code",
      "source": [
        "text_lengths = train['sentence'].str.len()\n",
        "distribution = text_lengths.value_counts().sort_index()\n",
        "\n",
        "# Plot the distribution\n",
        "plt.bar(distribution.index, distribution.values)\n",
        "plt.xlabel('Text Length (number of characters)')\n",
        "plt.ylabel('Count')\n",
        "plt.title('Text Length Distribution')\n",
        "plt.show()"
      ],
      "metadata": {
        "colab": {
          "base_uri": "https://localhost:8080/",
          "height": 472
        },
        "id": "5GTLAXw7yUa8",
        "outputId": "4cdba188-3418-47af-8d24-2d263b633886"
      },
      "execution_count": null,
      "outputs": [
        {
          "output_type": "display_data",
          "data": {
            "text/plain": [
              "<Figure size 640x480 with 1 Axes>"
            ],
            "image/png": "[encoded data removed]"
          },
          "metadata": {}
        }
      ]
    },
    {
      "cell_type": "code",
      "source": [
        "train.sort_values(by='sentence', key=lambda x: x.str.len(), ascending=False)['sentence'][:10]"
      ],
      "metadata": {
        "colab": {
          "base_uri": "https://localhost:8080/"
        },
        "id": "iRpsIoOQ9BEM",
        "outputId": "e367a532-8a04-4b78-bf68-62e7188c5690"
      },
      "execution_count": null,
      "outputs": [
        {
          "output_type": "execute_result",
          "data": {
            "text/plain": [
              "1633    In November my computer messed up entirely and...\n",
              "1634    In November my computer messed up entirely and...\n",
              "990     In November my computer messed up entirely and...\n",
              "1822      Toshiba customer services will indirectly de...\n",
              "584       Long story short, since I experience so many...\n",
              "596       We have had numerous problems with Vista, su...\n",
              "593       We have had numerous problems with Vista, su...\n",
              "592       We have had numerous problems with Vista, su...\n",
              "595       We have had numerous problems with Vista, su...\n",
              "594       We have had numerous problems with Vista, su...\n",
              "Name: sentence, dtype: object"
            ]
          },
          "metadata": {},
          "execution_count": 29
        }
      ]
    },
    {
      "cell_type": "code",
      "source": [
        "train.sort_values(by='term', key=lambda x: x.str.len())['sentence'][:10]"
      ],
      "metadata": {
        "colab": {
          "base_uri": "https://localhost:8080/"
        },
        "id": "VArVZAcK-q0Z",
        "outputId": "4e0381fd-d931-41d6-e220-1b77ab14ea77"
      },
      "execution_count": null,
      "outputs": [
        {
          "output_type": "execute_result",
          "data": {
            "text/plain": [
              "1633    In November my computer messed up entirely and...\n",
              "1361    I love its solid build, light wt and excellent...\n",
              "1699    It seems they could have updated XP and done w...\n",
              "500        Bigger HD, better graphics card, and a bid HD.\n",
              "502        Bigger HD, better graphics card, and a bid HD.\n",
              "211     You will need them if you want to reload the O...\n",
              "1691    Also, if you need to talk to a representive at...\n",
              "807     Being a PC user my whole life, it's taking a b...\n",
              "877     Everything from the design to the OS is simple...\n",
              "528     The OS is also very user friendly, even for th...\n",
              "Name: sentence, dtype: object"
            ]
          },
          "metadata": {},
          "execution_count": 30
        }
      ]
    },
    {
      "cell_type": "code",
      "source": [
        "train.iloc[15].values"
      ],
      "metadata": {
        "colab": {
          "base_uri": "https://localhost:8080/"
        },
        "id": "cGCtHpm7yUdM",
        "outputId": "42801af1-6758-4711-f974-04e037e09ab2"
      },
      "execution_count": null,
      "outputs": [
        {
          "output_type": "execute_result",
          "data": {
            "text/plain": [
              "array([15531, 'positive', 'battery', '1553_1',\n",
              "       'Great battery, speed, display.'], dtype=object)"
            ]
          },
          "metadata": {},
          "execution_count": 32
        }
      ]
    },
    {
      "cell_type": "code",
      "source": [
        "min(train['sentence'], key=len)"
      ],
      "metadata": {
        "colab": {
          "base_uri": "https://localhost:8080/",
          "height": 35
        },
        "id": "AdfkrxZayUfm",
        "outputId": "565a52ce-3ce4-4122-b14e-0141f1defc85"
      },
      "execution_count": null,
      "outputs": [
        {
          "output_type": "execute_result",
          "data": {
            "text/plain": [
              "'Good price.'"
            ],
            "application/vnd.google.colaboratory.intrinsic+json": {
              "type": "string"
            }
          },
          "metadata": {},
          "execution_count": 33
        }
      ]
    },
    {
      "cell_type": "code",
      "source": [
        "train[train['sentence'] == 'Good price.']"
      ],
      "metadata": {
        "colab": {
          "base_uri": "https://localhost:8080/",
          "height": 80
        },
        "id": "Ujz_b97Ze4-G",
        "outputId": "9ebc5e88-9640-42aa-cf81-b6d845e3409f"
      },
      "execution_count": null,
      "outputs": [
        {
          "output_type": "execute_result",
          "data": {
            "text/plain": [
              "      index  polarity   term      id     sentence\n",
              "1227  26840  positive  price  2684_0  Good price."
            ],
            "text/html": [
              "\n",
              "  <div id=\"df-69c57c0d-ba63-456d-898e-99d8a3faaa9f\">\n",
              "    <div class=\"colab-df-container\">\n",
              "      <div>\n",
              "<style scoped>\n",
              "    .dataframe tbody tr th:only-of-type {\n",
              "        vertical-align: middle;\n",
              "    }\n",
              "\n",
              "    .dataframe tbody tr th {\n",
              "        vertical-align: top;\n",
              "    }\n",
              "\n",
              "    .dataframe thead th {\n",
              "        text-align: right;\n",
              "    }\n",
              "</style>\n",
              "<table border=\"1\" class=\"dataframe\">\n",
              "  <thead>\n",
              "    <tr style=\"text-align: right;\">\n",
              "      <th></th>\n",
              "      <th>index</th>\n",
              "      <th>polarity</th>\n",
              "      <th>term</th>\n",
              "      <th>id</th>\n",
              "      <th>sentence</th>\n",
              "    </tr>\n",
              "  </thead>\n",
              "  <tbody>\n",
              "    <tr>\n",
              "      <th>1227</th>\n",
              "      <td>26840</td>\n",
              "      <td>positive</td>\n",
              "      <td>price</td>\n",
              "      <td>2684_0</td>\n",
              "      <td>Good price.</td>\n",
              "    </tr>\n",
              "  </tbody>\n",
              "</table>\n",
              "</div>\n",
              "      <button class=\"colab-df-convert\" onclick=\"convertToInteractive('df-69c57c0d-ba63-456d-898e-99d8a3faaa9f')\"\n",
              "              title=\"Convert this dataframe to an interactive table.\"\n",
              "              style=\"display:none;\">\n",
              "        \n",
              "  <svg xmlns=\"http://www.w3.org/2000/svg\" height=\"24px\"viewBox=\"0 0 24 24\"\n",
              "       width=\"24px\">\n",
              "    <path d=\"M0 0h24v24H0V0z\" fill=\"none\"/>\n",
              "    <path d=\"M18.56 5.44l.94 2.06.94-2.06 2.06-.94-2.06-.94-.94-2.06-.94 2.06-2.06.94zm-11 1L8.5 8.5l.94-2.06 2.06-.94-2.06-.94L8.5 2.5l-.94 2.06-2.06.94zm10 10l.94 2.06.94-2.06 2.06-.94-2.06-.94-.94-2.06-.94 2.06-2.06.94z\"/><path d=\"M17.41 7.96l-1.37-1.37c-.4-.4-.92-.59-1.43-.59-.52 0-1.04.2-1.43.59L10.3 9.45l-7.72 7.72c-.78.78-.78 2.05 0 2.83L4 21.41c.39.39.9.59 1.41.59.51 0 1.02-.2 1.41-.59l7.78-7.78 2.81-2.81c.8-.78.8-2.07 0-2.86zM5.41 20L4 18.59l7.72-7.72 1.47 1.35L5.41 20z\"/>\n",
              "  </svg>\n",
              "      </button>\n",
              "      \n",
              "  <style>\n",
              "    .colab-df-container {\n",
              "      display:flex;\n",
              "      flex-wrap:wrap;\n",
              "      gap: 12px;\n",
              "    }\n",
              "\n",
              "    .colab-df-convert {\n",
              "      background-color: #E8F0FE;\n",
              "      border: none;\n",
              "      border-radius: 50%;\n",
              "      cursor: pointer;\n",
              "      display: none;\n",
              "      fill: #1967D2;\n",
              "      height: 32px;\n",
              "      padding: 0 0 0 0;\n",
              "      width: 32px;\n",
              "    }\n",
              "\n",
              "    .colab-df-convert:hover {\n",
              "      background-color: #E2EBFA;\n",
              "      box-shadow: 0px 1px 2px rgba(60, 64, 67, 0.3), 0px 1px 3px 1px rgba(60, 64, 67, 0.15);\n",
              "      fill: #174EA6;\n",
              "    }\n",
              "\n",
              "    [theme=dark] .colab-df-convert {\n",
              "      background-color: #3B4455;\n",
              "      fill: #D2E3FC;\n",
              "    }\n",
              "\n",
              "    [theme=dark] .colab-df-convert:hover {\n",
              "      background-color: #434B5C;\n",
              "      box-shadow: 0px 1px 3px 1px rgba(0, 0, 0, 0.15);\n",
              "      filter: drop-shadow(0px 1px 2px rgba(0, 0, 0, 0.3));\n",
              "      fill: #FFFFFF;\n",
              "    }\n",
              "  </style>\n",
              "\n",
              "      <script>\n",
              "        const buttonEl =\n",
              "          document.querySelector('#df-69c57c0d-ba63-456d-898e-99d8a3faaa9f button.colab-df-convert');\n",
              "        buttonEl.style.display =\n",
              "          google.colab.kernel.accessAllowed ? 'block' : 'none';\n",
              "\n",
              "        async function convertToInteractive(key) {\n",
              "          const element = document.querySelector('#df-69c57c0d-ba63-456d-898e-99d8a3faaa9f');\n",
              "          const dataTable =\n",
              "            await google.colab.kernel.invokeFunction('convertToInteractive',\n",
              "                                                     [key], {});\n",
              "          if (!dataTable) return;\n",
              "\n",
              "          const docLinkHtml = 'Like what you see? Visit the ' +\n",
              "            '<a target=\"_blank\" href=https://colab.research.google.com/notebooks/data_table.ipynb>data table notebook</a>'\n",
              "            + ' to learn more about interactive tables.';\n",
              "          element.innerHTML = '';\n",
              "          dataTable['output_type'] = 'display_data';\n",
              "          await google.colab.output.renderOutput(dataTable, element);\n",
              "          const docLink = document.createElement('div');\n",
              "          docLink.innerHTML = docLinkHtml;\n",
              "          element.appendChild(docLink);\n",
              "        }\n",
              "      </script>\n",
              "    </div>\n",
              "  </div>\n",
              "  "
            ]
          },
          "metadata": {},
          "execution_count": 35
        }
      ]
    },
    {
      "cell_type": "code",
      "source": [
        "max(train['sentence'], key=len)"
      ],
      "metadata": {
        "id": "yzYrMxpj-Jrb"
      },
      "execution_count": null,
      "outputs": []
    },
    {
      "cell_type": "code",
      "source": [],
      "metadata": {
        "id": "W6J9s_i5-HVB"
      },
      "execution_count": null,
      "outputs": []
    },
    {
      "cell_type": "markdown",
      "source": [
        "### Sentiment analysis (Laptop)"
      ],
      "metadata": {
        "id": "GZ6Pf7Oeq51r"
      }
    },
    {
      "cell_type": "code",
      "source": [
        "import gensim.downloader as api\n",
        "model = api.load(\"word2vec-google-news-300\")  # download the model and return as object ready for use\n",
        "model.most_similar(\"cat\")"
      ],
      "metadata": {
        "colab": {
          "base_uri": "https://localhost:8080/",
          "height": 364
        },
        "id": "ME4olDQCLchr",
        "outputId": "fb238a91-e5a6-41c4-9ce2-69d22fe61abb"
      },
      "execution_count": null,
      "outputs": [
        {
          "output_type": "stream",
          "name": "stdout",
          "text": [
            "[--------------------------------------------------] 0.1% 1.7/1662.8MB downloaded"
          ]
        },
        {
          "output_type": "error",
          "ename": "KeyboardInterrupt",
          "evalue": "ignored",
          "traceback": [
            "\u001b[0;31m---------------------------------------------------------------------------\u001b[0m",
            "\u001b[0;31mKeyboardInterrupt\u001b[0m                         Traceback (most recent call last)",
            "\u001b[0;32m<ipython-input-2-1319f13656f0>\u001b[0m in \u001b[0;36m<cell line: 2>\u001b[0;34m()\u001b[0m\n\u001b[1;32m      1\u001b[0m \u001b[0;32mimport\u001b[0m \u001b[0mgensim\u001b[0m\u001b[0;34m.\u001b[0m\u001b[0mdownloader\u001b[0m \u001b[0;32mas\u001b[0m \u001b[0mapi\u001b[0m\u001b[0;34m\u001b[0m\u001b[0;34m\u001b[0m\u001b[0m\n\u001b[0;32m----> 2\u001b[0;31m \u001b[0mmodel\u001b[0m \u001b[0;34m=\u001b[0m \u001b[0mapi\u001b[0m\u001b[0;34m.\u001b[0m\u001b[0mload\u001b[0m\u001b[0;34m(\u001b[0m\u001b[0;34m\"word2vec-google-news-300\"\u001b[0m\u001b[0;34m)\u001b[0m  \u001b[0;31m# download the model and return as object ready for use\u001b[0m\u001b[0;34m\u001b[0m\u001b[0;34m\u001b[0m\u001b[0m\n\u001b[0m\u001b[1;32m      3\u001b[0m \u001b[0mmodel\u001b[0m\u001b[0;34m.\u001b[0m\u001b[0mmost_similar\u001b[0m\u001b[0;34m(\u001b[0m\u001b[0;34m\"cat\"\u001b[0m\u001b[0;34m)\u001b[0m\u001b[0;34m\u001b[0m\u001b[0;34m\u001b[0m\u001b[0m\n",
            "\u001b[0;32m/usr/local/lib/python3.10/dist-packages/gensim/downloader.py\u001b[0m in \u001b[0;36mload\u001b[0;34m(name, return_path)\u001b[0m\n\u001b[1;32m    494\u001b[0m     \u001b[0mpath\u001b[0m \u001b[0;34m=\u001b[0m \u001b[0mos\u001b[0m\u001b[0;34m.\u001b[0m\u001b[0mpath\u001b[0m\u001b[0;34m.\u001b[0m\u001b[0mjoin\u001b[0m\u001b[0;34m(\u001b[0m\u001b[0mfolder_dir\u001b[0m\u001b[0;34m,\u001b[0m \u001b[0mfile_name\u001b[0m\u001b[0;34m)\u001b[0m\u001b[0;34m\u001b[0m\u001b[0;34m\u001b[0m\u001b[0m\n\u001b[1;32m    495\u001b[0m     \u001b[0;32mif\u001b[0m \u001b[0;32mnot\u001b[0m \u001b[0mos\u001b[0m\u001b[0;34m.\u001b[0m\u001b[0mpath\u001b[0m\u001b[0;34m.\u001b[0m\u001b[0mexists\u001b[0m\u001b[0;34m(\u001b[0m\u001b[0mfolder_dir\u001b[0m\u001b[0;34m)\u001b[0m\u001b[0;34m:\u001b[0m\u001b[0;34m\u001b[0m\u001b[0;34m\u001b[0m\u001b[0m\n\u001b[0;32m--> 496\u001b[0;31m         \u001b[0m_download\u001b[0m\u001b[0;34m(\u001b[0m\u001b[0mname\u001b[0m\u001b[0;34m)\u001b[0m\u001b[0;34m\u001b[0m\u001b[0;34m\u001b[0m\u001b[0m\n\u001b[0m\u001b[1;32m    497\u001b[0m \u001b[0;34m\u001b[0m\u001b[0m\n\u001b[1;32m    498\u001b[0m     \u001b[0;32mif\u001b[0m \u001b[0mreturn_path\u001b[0m\u001b[0;34m:\u001b[0m\u001b[0;34m\u001b[0m\u001b[0;34m\u001b[0m\u001b[0m\n",
            "\u001b[0;32m/usr/local/lib/python3.10/dist-packages/gensim/downloader.py\u001b[0m in \u001b[0;36m_download\u001b[0;34m(name)\u001b[0m\n\u001b[1;32m    394\u001b[0m         \u001b[0mfname\u001b[0m \u001b[0;34m=\u001b[0m \u001b[0;34m\"{fname}.gz\"\u001b[0m\u001b[0;34m.\u001b[0m\u001b[0mformat\u001b[0m\u001b[0;34m(\u001b[0m\u001b[0mfname\u001b[0m\u001b[0;34m=\u001b[0m\u001b[0mname\u001b[0m\u001b[0;34m)\u001b[0m\u001b[0;34m\u001b[0m\u001b[0;34m\u001b[0m\u001b[0m\n\u001b[1;32m    395\u001b[0m         \u001b[0mdst_path\u001b[0m \u001b[0;34m=\u001b[0m \u001b[0mos\u001b[0m\u001b[0;34m.\u001b[0m\u001b[0mpath\u001b[0m\u001b[0;34m.\u001b[0m\u001b[0mjoin\u001b[0m\u001b[0;34m(\u001b[0m\u001b[0mtmp_dir\u001b[0m\u001b[0;34m,\u001b[0m \u001b[0mfname\u001b[0m\u001b[0;34m)\u001b[0m\u001b[0;34m\u001b[0m\u001b[0;34m\u001b[0m\u001b[0m\n\u001b[0;32m--> 396\u001b[0;31m         \u001b[0murllib\u001b[0m\u001b[0;34m.\u001b[0m\u001b[0murlretrieve\u001b[0m\u001b[0;34m(\u001b[0m\u001b[0murl_data\u001b[0m\u001b[0;34m,\u001b[0m \u001b[0mdst_path\u001b[0m\u001b[0;34m,\u001b[0m \u001b[0mreporthook\u001b[0m\u001b[0;34m=\u001b[0m\u001b[0m_progress\u001b[0m\u001b[0;34m)\u001b[0m\u001b[0;34m\u001b[0m\u001b[0;34m\u001b[0m\u001b[0m\n\u001b[0m\u001b[1;32m    397\u001b[0m         \u001b[0;32mif\u001b[0m \u001b[0m_calculate_md5_checksum\u001b[0m\u001b[0;34m(\u001b[0m\u001b[0mdst_path\u001b[0m\u001b[0;34m)\u001b[0m \u001b[0;34m==\u001b[0m \u001b[0m_get_checksum\u001b[0m\u001b[0;34m(\u001b[0m\u001b[0mname\u001b[0m\u001b[0;34m)\u001b[0m\u001b[0;34m:\u001b[0m\u001b[0;34m\u001b[0m\u001b[0;34m\u001b[0m\u001b[0m\n\u001b[1;32m    398\u001b[0m             \u001b[0msys\u001b[0m\u001b[0;34m.\u001b[0m\u001b[0mstdout\u001b[0m\u001b[0;34m.\u001b[0m\u001b[0mwrite\u001b[0m\u001b[0;34m(\u001b[0m\u001b[0;34m\"\\n\"\u001b[0m\u001b[0;34m)\u001b[0m\u001b[0;34m\u001b[0m\u001b[0;34m\u001b[0m\u001b[0m\n",
            "\u001b[0;32m/usr/lib/python3.10/urllib/request.py\u001b[0m in \u001b[0;36murlretrieve\u001b[0;34m(url, filename, reporthook, data)\u001b[0m\n\u001b[1;32m    275\u001b[0m                 \u001b[0mblocknum\u001b[0m \u001b[0;34m+=\u001b[0m \u001b[0;36m1\u001b[0m\u001b[0;34m\u001b[0m\u001b[0;34m\u001b[0m\u001b[0m\n\u001b[1;32m    276\u001b[0m                 \u001b[0;32mif\u001b[0m \u001b[0mreporthook\u001b[0m\u001b[0;34m:\u001b[0m\u001b[0;34m\u001b[0m\u001b[0;34m\u001b[0m\u001b[0m\n\u001b[0;32m--> 277\u001b[0;31m                     \u001b[0mreporthook\u001b[0m\u001b[0;34m(\u001b[0m\u001b[0mblocknum\u001b[0m\u001b[0;34m,\u001b[0m \u001b[0mbs\u001b[0m\u001b[0;34m,\u001b[0m \u001b[0msize\u001b[0m\u001b[0;34m)\u001b[0m\u001b[0;34m\u001b[0m\u001b[0;34m\u001b[0m\u001b[0m\n\u001b[0m\u001b[1;32m    278\u001b[0m \u001b[0;34m\u001b[0m\u001b[0m\n\u001b[1;32m    279\u001b[0m     \u001b[0;32mif\u001b[0m \u001b[0msize\u001b[0m \u001b[0;34m>=\u001b[0m \u001b[0;36m0\u001b[0m \u001b[0;32mand\u001b[0m \u001b[0mread\u001b[0m \u001b[0;34m<\u001b[0m \u001b[0msize\u001b[0m\u001b[0;34m:\u001b[0m\u001b[0;34m\u001b[0m\u001b[0;34m\u001b[0m\u001b[0m\n",
            "\u001b[0;32m/usr/local/lib/python3.10/dist-packages/gensim/downloader.py\u001b[0m in \u001b[0;36m_progress\u001b[0;34m(chunks_downloaded, chunk_size, total_size, part, total_parts)\u001b[0m\n\u001b[1;32m    127\u001b[0m                 round(float(total_size) / (1024 * 1024), 1))\n\u001b[1;32m    128\u001b[0m         )\n\u001b[0;32m--> 129\u001b[0;31m         \u001b[0msys\u001b[0m\u001b[0;34m.\u001b[0m\u001b[0mstdout\u001b[0m\u001b[0;34m.\u001b[0m\u001b[0mflush\u001b[0m\u001b[0;34m(\u001b[0m\u001b[0;34m)\u001b[0m\u001b[0;34m\u001b[0m\u001b[0;34m\u001b[0m\u001b[0m\n\u001b[0m\u001b[1;32m    130\u001b[0m     \u001b[0;32melse\u001b[0m\u001b[0;34m:\u001b[0m\u001b[0;34m\u001b[0m\u001b[0;34m\u001b[0m\u001b[0m\n\u001b[1;32m    131\u001b[0m         sys.stdout.write(\n",
            "\u001b[0;32m/usr/local/lib/python3.10/dist-packages/ipykernel/iostream.py\u001b[0m in \u001b[0;36mflush\u001b[0;34m(self)\u001b[0m\n\u001b[1;32m    348\u001b[0m                 \u001b[0mself\u001b[0m\u001b[0;34m.\u001b[0m\u001b[0mpub_thread\u001b[0m\u001b[0;34m.\u001b[0m\u001b[0mschedule\u001b[0m\u001b[0;34m(\u001b[0m\u001b[0mevt\u001b[0m\u001b[0;34m.\u001b[0m\u001b[0mset\u001b[0m\u001b[0;34m)\u001b[0m\u001b[0;34m\u001b[0m\u001b[0;34m\u001b[0m\u001b[0m\n\u001b[1;32m    349\u001b[0m                 \u001b[0;31m# and give a timeout to avoid\u001b[0m\u001b[0;34m\u001b[0m\u001b[0;34m\u001b[0m\u001b[0m\n\u001b[0;32m--> 350\u001b[0;31m                 \u001b[0;32mif\u001b[0m \u001b[0;32mnot\u001b[0m \u001b[0mevt\u001b[0m\u001b[0;34m.\u001b[0m\u001b[0mwait\u001b[0m\u001b[0;34m(\u001b[0m\u001b[0mself\u001b[0m\u001b[0;34m.\u001b[0m\u001b[0mflush_timeout\u001b[0m\u001b[0;34m)\u001b[0m\u001b[0;34m:\u001b[0m\u001b[0;34m\u001b[0m\u001b[0;34m\u001b[0m\u001b[0m\n\u001b[0m\u001b[1;32m    351\u001b[0m                     \u001b[0;31m# write directly to __stderr__ instead of warning because\u001b[0m\u001b[0;34m\u001b[0m\u001b[0;34m\u001b[0m\u001b[0m\n\u001b[1;32m    352\u001b[0m                     \u001b[0;31m# if this is happening sys.stderr may be the problem.\u001b[0m\u001b[0;34m\u001b[0m\u001b[0;34m\u001b[0m\u001b[0m\n",
            "\u001b[0;32m/usr/lib/python3.10/threading.py\u001b[0m in \u001b[0;36mwait\u001b[0;34m(self, timeout)\u001b[0m\n\u001b[1;32m    605\u001b[0m             \u001b[0msignaled\u001b[0m \u001b[0;34m=\u001b[0m \u001b[0mself\u001b[0m\u001b[0;34m.\u001b[0m\u001b[0m_flag\u001b[0m\u001b[0;34m\u001b[0m\u001b[0;34m\u001b[0m\u001b[0m\n\u001b[1;32m    606\u001b[0m             \u001b[0;32mif\u001b[0m \u001b[0;32mnot\u001b[0m \u001b[0msignaled\u001b[0m\u001b[0;34m:\u001b[0m\u001b[0;34m\u001b[0m\u001b[0;34m\u001b[0m\u001b[0m\n\u001b[0;32m--> 607\u001b[0;31m                 \u001b[0msignaled\u001b[0m \u001b[0;34m=\u001b[0m \u001b[0mself\u001b[0m\u001b[0;34m.\u001b[0m\u001b[0m_cond\u001b[0m\u001b[0;34m.\u001b[0m\u001b[0mwait\u001b[0m\u001b[0;34m(\u001b[0m\u001b[0mtimeout\u001b[0m\u001b[0;34m)\u001b[0m\u001b[0;34m\u001b[0m\u001b[0;34m\u001b[0m\u001b[0m\n\u001b[0m\u001b[1;32m    608\u001b[0m             \u001b[0;32mreturn\u001b[0m \u001b[0msignaled\u001b[0m\u001b[0;34m\u001b[0m\u001b[0;34m\u001b[0m\u001b[0m\n\u001b[1;32m    609\u001b[0m \u001b[0;34m\u001b[0m\u001b[0m\n",
            "\u001b[0;32m/usr/lib/python3.10/threading.py\u001b[0m in \u001b[0;36mwait\u001b[0;34m(self, timeout)\u001b[0m\n\u001b[1;32m    322\u001b[0m             \u001b[0;32melse\u001b[0m\u001b[0;34m:\u001b[0m\u001b[0;34m\u001b[0m\u001b[0;34m\u001b[0m\u001b[0m\n\u001b[1;32m    323\u001b[0m                 \u001b[0;32mif\u001b[0m \u001b[0mtimeout\u001b[0m \u001b[0;34m>\u001b[0m \u001b[0;36m0\u001b[0m\u001b[0;34m:\u001b[0m\u001b[0;34m\u001b[0m\u001b[0;34m\u001b[0m\u001b[0m\n\u001b[0;32m--> 324\u001b[0;31m                     \u001b[0mgotit\u001b[0m \u001b[0;34m=\u001b[0m \u001b[0mwaiter\u001b[0m\u001b[0;34m.\u001b[0m\u001b[0macquire\u001b[0m\u001b[0;34m(\u001b[0m\u001b[0;32mTrue\u001b[0m\u001b[0;34m,\u001b[0m \u001b[0mtimeout\u001b[0m\u001b[0;34m)\u001b[0m\u001b[0;34m\u001b[0m\u001b[0;34m\u001b[0m\u001b[0m\n\u001b[0m\u001b[1;32m    325\u001b[0m                 \u001b[0;32melse\u001b[0m\u001b[0;34m:\u001b[0m\u001b[0;34m\u001b[0m\u001b[0;34m\u001b[0m\u001b[0m\n\u001b[1;32m    326\u001b[0m                     \u001b[0mgotit\u001b[0m \u001b[0;34m=\u001b[0m \u001b[0mwaiter\u001b[0m\u001b[0;34m.\u001b[0m\u001b[0macquire\u001b[0m\u001b[0;34m(\u001b[0m\u001b[0;32mFalse\u001b[0m\u001b[0;34m)\u001b[0m\u001b[0;34m\u001b[0m\u001b[0;34m\u001b[0m\u001b[0m\n",
            "\u001b[0;31mKeyboardInterrupt\u001b[0m: "
          ]
        }
      ]
    },
    {
      "cell_type": "code",
      "source": [
        "from google.colab import drive\n",
        "drive.mount('/content/drive')\n",
        "\n",
        "import pandas as  pd\n",
        "train = pd.read_json('/content/drive/MyDrive/ABSA/laptop/train.json').T.reset_index()\n",
        "dev = pd.read_json('/content/drive/MyDrive/ABSA/laptop/dev.json').T.reset_index()\n",
        "test = pd.read_json('/content/drive/MyDrive/ABSA/laptop/test.json').T.reset_index()"
      ],
      "metadata": {
        "colab": {
          "base_uri": "https://localhost:8080/"
        },
        "id": "rqG3PajOq3CU",
        "outputId": "37c4e048-3cae-424e-ba82-c2475ef8fe24"
      },
      "execution_count": null,
      "outputs": [
        {
          "output_type": "stream",
          "name": "stdout",
          "text": [
            "Mounted at /content/drive\n"
          ]
        }
      ]
    },
    {
      "cell_type": "markdown",
      "source": [
        "#### preprocess"
      ],
      "metadata": {
        "id": "Ye77NZ5XtFj1"
      }
    },
    {
      "cell_type": "code",
      "source": [
        "\n",
        "def preprocess_text(text):\n",
        "\n",
        "    # Remove special characters and numbers\n",
        "    text = re.sub('[^a-zA-Z]', ' ', text)\n",
        "\n",
        "    text = text.lower()\n",
        "\n",
        "    # Tokenize\n",
        "    words = text.split()\n",
        "\n",
        "    # Remove stopwords\n",
        "    #stop_words = set(stopwords.words('english'))\n",
        "    #words = [word for word in words if word not in stop_words]\n",
        "\n",
        "    #lemmatizer = WordNetLemmatizer()\n",
        "    #words = [lemmatizer.lemmatize(word) for word in words]\n",
        "\n",
        "    return words"
      ],
      "metadata": {
        "id": "IYD4etqktFBH"
      },
      "execution_count": null,
      "outputs": []
    },
    {
      "cell_type": "code",
      "source": [
        "import re\n",
        "import nltk\n",
        "nltk.download('stopwords')\n",
        "nltk.download('wordnet')\n",
        "from nltk.corpus import stopwords\n",
        "from nltk.stem import WordNetLemmatizer\n",
        "import torch\n"
      ],
      "metadata": {
        "colab": {
          "base_uri": "https://localhost:8080/"
        },
        "id": "UoNo6QqFtFDz",
        "outputId": "6a933db3-e535-4071-ac76-62ee5513f81c"
      },
      "execution_count": null,
      "outputs": [
        {
          "output_type": "stream",
          "name": "stderr",
          "text": [
            "[nltk_data] Downloading package stopwords to /root/nltk_data...\n",
            "[nltk_data]   Unzipping corpora/stopwords.zip.\n",
            "[nltk_data] Downloading package wordnet to /root/nltk_data...\n"
          ]
        }
      ]
    },
    {
      "cell_type": "code",
      "source": [
        "train['processed_tokens'] = train['sentence'].apply(preprocess_text)\n",
        "dev['processed_tokens'] = dev['sentence'].apply(preprocess_text)\n",
        "test['processed_tokens'] = test['sentence'].apply(preprocess_text)"
      ],
      "metadata": {
        "id": "dnj7X_NotKCS"
      },
      "execution_count": null,
      "outputs": []
    },
    {
      "cell_type": "code",
      "source": [
        "train['processed_aspects'] = train['term'].apply(preprocess_text)\n",
        "dev['processed_aspects'] = dev['term'].apply(preprocess_text)\n",
        "test['processed_aspects'] = test['term'].apply(preprocess_text)"
      ],
      "metadata": {
        "id": "VG1intyhq3En"
      },
      "execution_count": null,
      "outputs": []
    },
    {
      "cell_type": "code",
      "source": [
        "print(train.shape)\n",
        "print(dev.shape)\n",
        "print(test.shape)"
      ],
      "metadata": {
        "colab": {
          "base_uri": "https://localhost:8080/"
        },
        "id": "7b3umh0Bv9zO",
        "outputId": "da27757e-4a92-43c8-c2b9-206e6f7dcd0d"
      },
      "execution_count": null,
      "outputs": [
        {
          "output_type": "stream",
          "name": "stdout",
          "text": [
            "(2163, 7)\n",
            "(150, 7)\n",
            "(638, 7)\n"
          ]
        }
      ]
    },
    {
      "cell_type": "code",
      "source": [
        "train = train.drop([i for i,w in train['processed_aspects'].items() if len(w) == 0])"
      ],
      "metadata": {
        "id": "hG8K7zmQvwAg"
      },
      "execution_count": null,
      "outputs": []
    },
    {
      "cell_type": "markdown",
      "source": [
        "#### embeddings"
      ],
      "metadata": {
        "id": "W3Ysv50_tbYr"
      }
    },
    {
      "cell_type": "code",
      "source": [
        "sent_emb = []\n",
        "for sent in train['processed_tokens']:\n",
        "  sent_emb.append(model.get_mean_vector(sent))\n",
        "sent_emb  = torch.Tensor(sent_emb)"
      ],
      "metadata": {
        "colab": {
          "base_uri": "https://localhost:8080/"
        },
        "id": "McCJvSmItY5Q",
        "outputId": "c0444c48-1c49-4c11-c843-f966487067bb"
      },
      "execution_count": null,
      "outputs": [
        {
          "output_type": "stream",
          "name": "stderr",
          "text": [
            "<ipython-input-21-bdb3d4fcb10c>:4: UserWarning: Creating a tensor from a list of numpy.ndarrays is extremely slow. Please consider converting the list to a single numpy.ndarray with numpy.array() before converting to a tensor. (Triggered internally at ../torch/csrc/utils/tensor_new.cpp:245.)\n",
            "  sent_emb  = torch.Tensor(sent_emb)\n"
          ]
        }
      ]
    },
    {
      "cell_type": "code",
      "source": [
        "asp_emb = []\n",
        "for aw in train['processed_aspects']:\n",
        "  asp_emb.append(model.get_mean_vector(aw))\n",
        "asp_emb  = torch.Tensor(asp_emb)"
      ],
      "metadata": {
        "id": "jedZd9GItY-c"
      },
      "execution_count": null,
      "outputs": []
    },
    {
      "cell_type": "code",
      "source": [
        "print(sent_emb.shape, asp_emb.shape)"
      ],
      "metadata": {
        "colab": {
          "base_uri": "https://localhost:8080/"
        },
        "id": "W0fcXrUNvP7C",
        "outputId": "ae962f4b-582b-4f04-8570-e0666b51f092"
      },
      "execution_count": null,
      "outputs": [
        {
          "output_type": "stream",
          "name": "stdout",
          "text": [
            "torch.Size([2161, 300]) torch.Size([2161, 300])\n"
          ]
        }
      ]
    },
    {
      "cell_type": "code",
      "source": [
        "emb = torch.cat( [sent_emb, asp_emb], axis = 1 )"
      ],
      "metadata": {
        "id": "upGjvkNUwW4e"
      },
      "execution_count": null,
      "outputs": []
    },
    {
      "cell_type": "code",
      "source": [
        "train['polarity'].value_counts()"
      ],
      "metadata": {
        "colab": {
          "base_uri": "https://localhost:8080/"
        },
        "id": "sKwCk4k1wjpl",
        "outputId": "3fdb36ca-5e03-4c8a-98d6-c99351975a4f"
      },
      "execution_count": null,
      "outputs": [
        {
          "output_type": "execute_result",
          "data": {
            "text/plain": [
              "positive    930\n",
              "negative    800\n",
              "neutral     431\n",
              "Name: polarity, dtype: int64"
            ]
          },
          "metadata": {},
          "execution_count": 25
        }
      ]
    },
    {
      "cell_type": "markdown",
      "source": [
        "#### dev and test emb"
      ],
      "metadata": {
        "id": "GfTDSDgCyvc6"
      }
    },
    {
      "cell_type": "code",
      "source": [
        "dev_sent_emb = []\n",
        "for sent in dev['processed_tokens']:\n",
        "  dev_sent_emb.append(model.get_mean_vector(sent))\n",
        "dev_sent_emb  = torch.Tensor(dev_sent_emb)\n",
        "\n",
        "dev_asp_emb = []\n",
        "for aw in dev['processed_aspects']:\n",
        "  dev_asp_emb.append(model.get_mean_vector(aw))\n",
        "dev_asp_emb  = torch.Tensor(dev_asp_emb)"
      ],
      "metadata": {
        "id": "fXQ7bQUuyzs0"
      },
      "execution_count": null,
      "outputs": []
    },
    {
      "cell_type": "code",
      "source": [
        "dev_emb = torch.cat( [dev_sent_emb, dev_asp_emb], axis = 1 )"
      ],
      "metadata": {
        "id": "f1eoArm8yzvN"
      },
      "execution_count": null,
      "outputs": []
    },
    {
      "cell_type": "code",
      "source": [
        "dev_emb.shape"
      ],
      "metadata": {
        "colab": {
          "base_uri": "https://localhost:8080/"
        },
        "id": "jNp-7V3_yuWR",
        "outputId": "c0e8097d-7a24-46bb-a244-90dc46d11e2b"
      },
      "execution_count": null,
      "outputs": [
        {
          "output_type": "execute_result",
          "data": {
            "text/plain": [
              "torch.Size([150, 600])"
            ]
          },
          "metadata": {},
          "execution_count": 28
        }
      ]
    },
    {
      "cell_type": "code",
      "source": [],
      "metadata": {
        "id": "kPlBHzJb0NpV"
      },
      "execution_count": null,
      "outputs": []
    },
    {
      "cell_type": "code",
      "source": [
        "test_sent_emb = []\n",
        "for sent in test['processed_tokens']:\n",
        "  test_sent_emb.append(model.get_mean_vector(sent))\n",
        "test_sent_emb  = torch.Tensor(test_sent_emb)\n",
        "\n",
        "test_asp_emb = []\n",
        "for aw in test['processed_aspects']:\n",
        "  test_asp_emb.append(model.get_mean_vector(aw))\n",
        "test_asp_emb  = torch.Tensor(test_asp_emb)"
      ],
      "metadata": {
        "id": "tyWkCB190StQ"
      },
      "execution_count": null,
      "outputs": []
    },
    {
      "cell_type": "code",
      "source": [
        "test_emb = torch.cat( [test_sent_emb, test_asp_emb], axis = 1 )"
      ],
      "metadata": {
        "id": "YzoCoxtO0WDb"
      },
      "execution_count": null,
      "outputs": []
    },
    {
      "cell_type": "code",
      "source": [
        "test_emb.shape"
      ],
      "metadata": {
        "colab": {
          "base_uri": "https://localhost:8080/"
        },
        "id": "JpjCQYCP0Thb",
        "outputId": "46b2b049-1571-48fe-cb63-2f515b407476"
      },
      "execution_count": null,
      "outputs": [
        {
          "output_type": "execute_result",
          "data": {
            "text/plain": [
              "torch.Size([638, 600])"
            ]
          },
          "metadata": {},
          "execution_count": 31
        }
      ]
    },
    {
      "cell_type": "markdown",
      "source": [
        "#### dataloader"
      ],
      "metadata": {
        "id": "dX81pS5204-y"
      }
    },
    {
      "cell_type": "code",
      "source": [
        "batch_size = 32"
      ],
      "metadata": {
        "id": "tDMASIyo1jb1"
      },
      "execution_count": null,
      "outputs": []
    },
    {
      "cell_type": "code",
      "source": [
        "from torch.utils.data import DataLoader, TensorDataset\n",
        "\n",
        "# Assuming you have defined your dataset and label\n",
        "labels = list(train['polarity'])\n",
        "\n",
        "# Convert labels to numerical values\n",
        "label_mapping = {'positive': 0, 'negative': 1, 'neutral': 2}\n",
        "numeric_labels = [label_mapping[label] for label in labels]\n",
        "\n",
        "# Convert dataset and labels to PyTorch tensors\n",
        "dataset_tensor = emb\n",
        "labels_tensor = torch.LongTensor(numeric_labels)\n",
        "\n",
        "# Create a TensorDataset from dataset and labels\n",
        "data = TensorDataset(dataset_tensor, labels_tensor)\n",
        "\n",
        "# Create a DataLoader\n",
        "dataloader = DataLoader(data, batch_size=batch_size, shuffle=True)"
      ],
      "metadata": {
        "id": "-FGVF3jb07BL"
      },
      "execution_count": null,
      "outputs": []
    },
    {
      "cell_type": "code",
      "source": [
        "## DEV\n",
        "dev_labels = list(dev['polarity'])\n",
        "label_mapping = {'positive': 0, 'negative': 1, 'neutral': 2}\n",
        "dev_numeric_labels = [label_mapping[label] for label in dev_labels]\n",
        "dev_dataset_tensor = dev_emb\n",
        "dev_labels_tensor = torch.LongTensor(dev_numeric_labels)\n",
        "dev_data = TensorDataset(dev_dataset_tensor, dev_labels_tensor)\n",
        "dev_dataloader = DataLoader(dev_data, batch_size=batch_size, shuffle=True)"
      ],
      "metadata": {
        "id": "uwnHAWeU1AWx"
      },
      "execution_count": null,
      "outputs": []
    },
    {
      "cell_type": "code",
      "source": [
        "## test\n",
        "test_labels = list(test['polarity'])\n",
        "label_mapping = {'positive': 0, 'negative': 1, 'neutral': 2}\n",
        "test_numeric_labels = [label_mapping[label] for label in test_labels]\n",
        "test_dataset_tensor = test_emb\n",
        "test_labels_tensor = torch.LongTensor(test_numeric_labels)\n",
        "test_data = TensorDataset(test_dataset_tensor, test_labels_tensor)\n",
        "test_dataloader = DataLoader(test_data, batch_size=batch_size, shuffle=True)"
      ],
      "metadata": {
        "id": "YLjJiH3N1AhD"
      },
      "execution_count": null,
      "outputs": []
    },
    {
      "cell_type": "markdown",
      "source": [
        "#### model"
      ],
      "metadata": {
        "id": "WLCYedpEwlNf"
      }
    },
    {
      "cell_type": "code",
      "source": [
        "import torch\n",
        "import torch.nn as nn\n",
        "from torch.utils.data import DataLoader, TensorDataset\n",
        "\n",
        "# Define your fully feed-forward network with multiple hidden layers\n",
        "class Net(nn.Module):\n",
        "    def __init__(self):\n",
        "        super(Net, self).__init__()\n",
        "        self.fc1 = nn.Linear(600, 256)\n",
        "        self.fc2 = nn.Linear(256, 128)\n",
        "        self.fc3 = nn.Linear(128, 3)  # Assuming 3 classes: pos, neg, neutral\n",
        "\n",
        "    def forward(self, x):\n",
        "        x = torch.relu(self.fc1(x))\n",
        "        x = torch.relu(self.fc2(x))\n",
        "        x = self.fc3(x)\n",
        "        return x\n",
        "\n",
        "\n",
        "# Define batch size and number of epochs\n",
        "num_epochs = 10\n",
        "\n",
        "\n",
        "# Initialize your network\n",
        "model = Net()\n",
        "\n",
        "# Define loss function and optimizer\n",
        "criterion = nn.CrossEntropyLoss()\n",
        "optimizer = torch.optim.Adam(model.parameters(), lr=0.01)\n",
        "\n",
        "# Training loop\n",
        "for epoch in range(num_epochs):\n",
        "    total_loss = 0\n",
        "    total_correct = 0\n",
        "    total_samples = 0\n",
        "\n",
        "    for batch_inputs, batch_labels in dataloader:\n",
        "        # Forward pass\n",
        "        outputs = model(batch_inputs)\n",
        "\n",
        "        # Compute loss\n",
        "        loss = criterion(outputs, batch_labels)\n",
        "\n",
        "        # Backward pass and optimization\n",
        "        optimizer.zero_grad()\n",
        "        loss.backward()\n",
        "        optimizer.step()\n",
        "\n",
        "        # Update accuracy metrics\n",
        "        total_loss += loss.item()\n",
        "        _, predicted = torch.max(outputs.data, 1)\n",
        "        total_correct += (predicted == batch_labels).sum().item()\n",
        "        total_samples += batch_labels.size(0)\n",
        "\n",
        "    # Calculate accuracy\n",
        "    accuracy = total_correct / total_samples\n",
        "\n",
        "    # Print epoch statistics\n",
        "    print(f\"Epoch {epoch + 1}/{num_epochs}, Loss: {total_loss:.4f}, Accuracy: {accuracy:.4f}\")\n",
        "\n",
        "    # Validation phase\n",
        "    model.eval()\n",
        "    val_loss = 0\n",
        "    val_correct = 0\n",
        "    val_total = 0\n",
        "\n",
        "    with torch.no_grad():\n",
        "        for val_inputs, val_labels in dev_dataloader:\n",
        "            # Forward pass\n",
        "            val_outputs = model(val_inputs)\n",
        "\n",
        "            # Compute validation loss\n",
        "            loss = criterion(val_outputs, val_labels)\n",
        "\n",
        "            # Update validation accuracy metrics\n",
        "            val_loss += loss.item()\n",
        "            _, val_predicted = torch.max(val_outputs.data, 1)\n",
        "            val_correct += (val_predicted == val_labels).sum().item()\n",
        "            val_total += val_labels.size(0)\n",
        "\n",
        "    # Calculate validation accuracy\n",
        "    val_accuracy = val_correct / val_total\n",
        "\n",
        "    # Print epoch statistics\n",
        "    print(f\"Epoch {epoch + 1}/{num_epochs}, \"\n",
        "          f\"Val Loss: {val_loss:.4f}, Val Accuracy: {val_accuracy:.4f}\")\n",
        "\n",
        "\n"
      ],
      "metadata": {
        "colab": {
          "base_uri": "https://localhost:8080/"
        },
        "id": "w3wk_uNstZAx",
        "outputId": "e725d14f-1f4c-4bb5-95c5-e7be6e63b5ef"
      },
      "execution_count": null,
      "outputs": [
        {
          "output_type": "stream",
          "name": "stdout",
          "text": [
            "Epoch 1/10, Loss: 62.4444, Accuracy: 0.5650\n",
            "Epoch 1/10, Val Loss: 4.2876, Val Accuracy: 0.6200\n",
            "Epoch 2/10, Loss: 51.6539, Accuracy: 0.6613\n",
            "Epoch 2/10, Val Loss: 4.3158, Val Accuracy: 0.5933\n",
            "Epoch 3/10, Loss: 46.2169, Accuracy: 0.7062\n",
            "Epoch 3/10, Val Loss: 4.1088, Val Accuracy: 0.6400\n",
            "Epoch 4/10, Loss: 42.7699, Accuracy: 0.7344\n",
            "Epoch 4/10, Val Loss: 4.2082, Val Accuracy: 0.6467\n",
            "Epoch 5/10, Loss: 37.7037, Accuracy: 0.7696\n",
            "Epoch 5/10, Val Loss: 3.7981, Val Accuracy: 0.6933\n",
            "Epoch 6/10, Loss: 35.8343, Accuracy: 0.7867\n",
            "Epoch 6/10, Val Loss: 4.4357, Val Accuracy: 0.6333\n",
            "Epoch 7/10, Loss: 34.5559, Accuracy: 0.7890\n",
            "Epoch 7/10, Val Loss: 5.1996, Val Accuracy: 0.6067\n",
            "Epoch 8/10, Loss: 31.3670, Accuracy: 0.8103\n",
            "Epoch 8/10, Val Loss: 5.2819, Val Accuracy: 0.6467\n",
            "Epoch 9/10, Loss: 28.5330, Accuracy: 0.8191\n",
            "Epoch 9/10, Val Loss: 5.1914, Val Accuracy: 0.6133\n",
            "Epoch 10/10, Loss: 28.3439, Accuracy: 0.8311\n",
            "Epoch 10/10, Val Loss: 5.1759, Val Accuracy: 0.6267\n"
          ]
        }
      ]
    },
    {
      "cell_type": "markdown",
      "source": [
        "#### test"
      ],
      "metadata": {
        "id": "8TU3TfK9yV_o"
      }
    },
    {
      "cell_type": "code",
      "source": [
        "# Validation phase\n",
        "model.eval()\n",
        "val_loss = 0\n",
        "val_correct = 0\n",
        "val_total = 0\n",
        "\n",
        "\n",
        "pred_list = []\n",
        "label_list =  []\n",
        "\n",
        "with torch.no_grad():\n",
        "    for val_inputs, val_labels in test_dataloader:\n",
        "        # Forward pass\n",
        "        val_outputs = model(val_inputs)\n",
        "\n",
        "        # Compute validation loss\n",
        "        loss = criterion(val_outputs, val_labels)\n",
        "\n",
        "        # Update validation accuracy metrics\n",
        "        val_loss += loss.item()\n",
        "        _, val_predicted = torch.max(val_outputs.data, 1)\n",
        "\n",
        "        pred_list.extend(val_predicted.tolist())\n",
        "        label_list.extend(val_labels.tolist())\n",
        "\n",
        "        val_correct += (val_predicted == val_labels).sum().item()\n",
        "        val_total += val_labels.size(0)\n",
        "\n",
        "# Calculate validation accuracy\n",
        "val_accuracy = val_correct / val_total\n",
        "\n",
        "# Print epoch statistics\n",
        "print(f\"Val Loss: {val_loss:.4f}, Val Accuracy: {val_accuracy:.4f}\")"
      ],
      "metadata": {
        "colab": {
          "base_uri": "https://localhost:8080/"
        },
        "id": "3NPTm4YSyVfT",
        "outputId": "b4504110-7014-4dec-8bbf-4d4af609f11a"
      },
      "execution_count": null,
      "outputs": [
        {
          "output_type": "stream",
          "name": "stdout",
          "text": [
            "Val Loss: 18.3065, Val Accuracy: 0.6755\n"
          ]
        }
      ]
    },
    {
      "cell_type": "code",
      "source": [
        "'positive': 0, 'negative': 1, 'neutral': 2"
      ],
      "metadata": {
        "id": "Kz3_ewm9UeA5"
      },
      "execution_count": null,
      "outputs": []
    },
    {
      "cell_type": "code",
      "source": [
        "from sklearn.metrics import classification_report\n",
        "report = classification_report(label_list, pred_list, labels = [0,1,2], target_names = ['positive','negative','neutral'])\n",
        "print(report)"
      ],
      "metadata": {
        "id": "SEvfxSgJtZDC",
        "colab": {
          "base_uri": "https://localhost:8080/"
        },
        "outputId": "acfc1cf2-6f5f-4231-b8bf-44ee58ee4d05"
      },
      "execution_count": null,
      "outputs": [
        {
          "output_type": "stream",
          "name": "stdout",
          "text": [
            "              precision    recall  f1-score   support\n",
            "\n",
            "    positive       0.80      0.80      0.80       341\n",
            "    negative       0.45      0.62      0.52       128\n",
            "     neutral       0.64      0.46      0.54       169\n",
            "\n",
            "    accuracy                           0.68       638\n",
            "   macro avg       0.63      0.63      0.62       638\n",
            "weighted avg       0.69      0.68      0.68       638\n",
            "\n"
          ]
        }
      ]
    },
    {
      "cell_type": "markdown",
      "source": [
        "### Restaurant"
      ],
      "metadata": {
        "id": "MQ-zt3Z4VWd6"
      }
    },
    {
      "cell_type": "code",
      "source": [
        "from google.colab import drive\n",
        "drive.mount('/content/drive')\n",
        "\n",
        "import pandas as  pd\n",
        "train = pd.read_json('/content/drive/MyDrive/ABSA/rest/train.json').T.reset_index()\n",
        "dev = pd.read_json('/content/drive/MyDrive/ABSA/rest/dev.json').T.reset_index()\n",
        "test = pd.read_json('/content/drive/MyDrive/ABSA/rest/test.json').T.reset_index()"
      ],
      "metadata": {
        "colab": {
          "base_uri": "https://localhost:8080/"
        },
        "id": "Iyc62knqVbCe",
        "outputId": "cdf730ef-51c8-4bae-d9eb-d7b475165bfe"
      },
      "execution_count": null,
      "outputs": [
        {
          "output_type": "stream",
          "name": "stdout",
          "text": [
            "Drive already mounted at /content/drive; to attempt to forcibly remount, call drive.mount(\"/content/drive\", force_remount=True).\n"
          ]
        }
      ]
    },
    {
      "cell_type": "code",
      "source": [
        "import gensim.downloader as api\n",
        "model = api.load(\"word2vec-google-news-300\")  # download the model and return as object ready for use\n",
        "model.most_similar(\"cat\")"
      ],
      "metadata": {
        "colab": {
          "base_uri": "https://localhost:8080/"
        },
        "id": "iVJS2SVDV2pZ",
        "outputId": "271802ba-6799-497c-b45b-467bb7526d30"
      },
      "execution_count": null,
      "outputs": [
        {
          "output_type": "execute_result",
          "data": {
            "text/plain": [
              "[('cats', 0.8099379539489746),\n",
              " ('dog', 0.760945737361908),\n",
              " ('kitten', 0.7464985251426697),\n",
              " ('feline', 0.7326234579086304),\n",
              " ('beagle', 0.7150582671165466),\n",
              " ('puppy', 0.7075453400611877),\n",
              " ('pup', 0.6934291124343872),\n",
              " ('pet', 0.6891531348228455),\n",
              " ('felines', 0.6755931973457336),\n",
              " ('chihuahua', 0.6709762215614319)]"
            ]
          },
          "metadata": {},
          "execution_count": 55
        }
      ]
    },
    {
      "cell_type": "code",
      "source": [
        "def preprocess_text(text):\n",
        "\n",
        "    # Remove special characters and numbers\n",
        "    text = re.sub('[^a-zA-Z]', ' ', text)\n",
        "\n",
        "    text = text.lower()\n",
        "\n",
        "    # Tokenize\n",
        "    words = text.split()\n",
        "\n",
        "    # Remove stopwords\n",
        "    #stop_words = set(stopwords.words('english'))\n",
        "    #words = [word for word in words if word not in stop_words]\n",
        "\n",
        "    #lemmatizer = WordNetLemmatizer()\n",
        "    #words = [lemmatizer.lemmatize(word) for word in words]\n",
        "\n",
        "    return words\n",
        "\n",
        "train['processed_tokens'] = train['sentence'].apply(preprocess_text)\n",
        "dev['processed_tokens'] = dev['sentence'].apply(preprocess_text)\n",
        "test['processed_tokens'] = test['sentence'].apply(preprocess_text)\n",
        "\n",
        "train['processed_aspects'] = train['term'].apply(preprocess_text)\n",
        "dev['processed_aspects'] = dev['term'].apply(preprocess_text)\n",
        "test['processed_aspects'] = test['term'].apply(preprocess_text)\n",
        "\n",
        "print(train.shape)\n",
        "print(dev.shape)\n",
        "print(test.shape)\n",
        "\n",
        "train = train.drop([i for i,w in train['processed_aspects'].items() if len(w) == 0])"
      ],
      "metadata": {
        "colab": {
          "base_uri": "https://localhost:8080/"
        },
        "id": "ID1-R8TTVabf",
        "outputId": "5ec8433d-edc5-4b10-8149-965b0fe8c872"
      },
      "execution_count": null,
      "outputs": [
        {
          "output_type": "stream",
          "name": "stdout",
          "text": [
            "(3452, 7)\n",
            "(150, 7)\n",
            "(1120, 7)\n"
          ]
        }
      ]
    },
    {
      "cell_type": "code",
      "source": [
        "sent_emb = []\n",
        "for sent in train['processed_tokens']:\n",
        "  sent_emb.append(model.get_mean_vector(sent))\n",
        "sent_emb  = torch.Tensor(sent_emb)\n",
        "\n",
        "asp_emb = []\n",
        "for aw in train['processed_aspects']:\n",
        "  asp_emb.append(model.get_mean_vector(aw))\n",
        "asp_emb  = torch.Tensor(asp_emb)\n",
        "\n",
        "print(sent_emb.shape, asp_emb.shape)\n",
        "\n",
        "emb = torch.cat( [sent_emb, asp_emb], axis = 1 )\n",
        "\n",
        "print(emb.shape)"
      ],
      "metadata": {
        "colab": {
          "base_uri": "https://localhost:8080/"
        },
        "id": "8uKjl08FWJtw",
        "outputId": "f2e1bce0-7f87-4da6-d1c8-f29cfc2c9a1b"
      },
      "execution_count": null,
      "outputs": [
        {
          "output_type": "stream",
          "name": "stdout",
          "text": [
            "torch.Size([3452, 300]) torch.Size([3452, 300])\n",
            "torch.Size([3452, 600])\n"
          ]
        }
      ]
    },
    {
      "cell_type": "code",
      "source": [
        "dev_sent_emb = []\n",
        "for sent in dev['processed_tokens']:\n",
        "  dev_sent_emb.append(model.get_mean_vector(sent))\n",
        "dev_sent_emb  = torch.Tensor(dev_sent_emb)\n",
        "\n",
        "dev_asp_emb = []\n",
        "for aw in dev['processed_aspects']:\n",
        "  dev_asp_emb.append(model.get_mean_vector(aw))\n",
        "dev_asp_emb  = torch.Tensor(dev_asp_emb)\n",
        "\n",
        "dev_emb = torch.cat( [dev_sent_emb, dev_asp_emb], axis = 1 )\n",
        "\n",
        "dev_emb.shape"
      ],
      "metadata": {
        "colab": {
          "base_uri": "https://localhost:8080/"
        },
        "id": "F9FSAGNhWJwY",
        "outputId": "1ff717d8-e86d-4a60-9673-ad7ae022022d"
      },
      "execution_count": null,
      "outputs": [
        {
          "output_type": "execute_result",
          "data": {
            "text/plain": [
              "torch.Size([150, 600])"
            ]
          },
          "metadata": {},
          "execution_count": 59
        }
      ]
    },
    {
      "cell_type": "code",
      "source": [
        "test_sent_emb = []\n",
        "for sent in test['processed_tokens']:\n",
        "  test_sent_emb.append(model.get_mean_vector(sent))\n",
        "test_sent_emb  = torch.Tensor(test_sent_emb)\n",
        "\n",
        "test_asp_emb = []\n",
        "for aw in test['processed_aspects']:\n",
        "  test_asp_emb.append(model.get_mean_vector(aw))\n",
        "test_asp_emb  = torch.Tensor(test_asp_emb)\n",
        "\n",
        "test_emb = torch.cat( [test_sent_emb, test_asp_emb], axis = 1 )\n",
        "\n",
        "test_emb.shape"
      ],
      "metadata": {
        "colab": {
          "base_uri": "https://localhost:8080/"
        },
        "id": "J9L4-b1sWJyg",
        "outputId": "f889d64a-a99f-44e0-f23b-0e265088a4c0"
      },
      "execution_count": null,
      "outputs": [
        {
          "output_type": "execute_result",
          "data": {
            "text/plain": [
              "torch.Size([1120, 600])"
            ]
          },
          "metadata": {},
          "execution_count": 60
        }
      ]
    },
    {
      "cell_type": "code",
      "source": [
        "train['polarity'].value_counts()"
      ],
      "metadata": {
        "colab": {
          "base_uri": "https://localhost:8080/"
        },
        "id": "q8I7oq7hWyeu",
        "outputId": "fbdb8722-e4b5-42cc-ea57-d8522f831e0a"
      },
      "execution_count": null,
      "outputs": [
        {
          "output_type": "execute_result",
          "data": {
            "text/plain": [
              "positive    2094\n",
              "negative     779\n",
              "neutral      579\n",
              "Name: polarity, dtype: int64"
            ]
          },
          "metadata": {},
          "execution_count": 61
        }
      ]
    },
    {
      "cell_type": "code",
      "source": [
        "batch_size = 32\n",
        "\n",
        "from torch.utils.data import DataLoader, TensorDataset\n",
        "\n",
        "# Assuming you have defined your dataset and label\n",
        "labels = list(train['polarity'])\n",
        "\n",
        "# Convert labels to numerical values\n",
        "label_mapping = {'positive': 0, 'negative': 1, 'neutral': 2}\n",
        "numeric_labels = [label_mapping[label] for label in labels]\n",
        "\n",
        "# Convert dataset and labels to PyTorch tensors\n",
        "dataset_tensor = emb\n",
        "labels_tensor = torch.LongTensor(numeric_labels)\n",
        "\n",
        "# Create a TensorDataset from dataset and labels\n",
        "data = TensorDataset(dataset_tensor, labels_tensor)\n",
        "\n",
        "# Create a DataLoader\n",
        "dataloader = DataLoader(data, batch_size=batch_size, shuffle=True)"
      ],
      "metadata": {
        "id": "FJNiX2N5WsQf"
      },
      "execution_count": null,
      "outputs": []
    },
    {
      "cell_type": "code",
      "source": [
        "## DEV\n",
        "dev_labels = list(dev['polarity'])\n",
        "label_mapping = {'positive': 0, 'negative': 1, 'neutral': 2}\n",
        "dev_numeric_labels = [label_mapping[label] for label in dev_labels]\n",
        "dev_dataset_tensor = dev_emb\n",
        "dev_labels_tensor = torch.LongTensor(dev_numeric_labels)\n",
        "dev_data = TensorDataset(dev_dataset_tensor, dev_labels_tensor)\n",
        "dev_dataloader = DataLoader(dev_data, batch_size=batch_size, shuffle=True)"
      ],
      "metadata": {
        "id": "oydNilO2WsSt"
      },
      "execution_count": null,
      "outputs": []
    },
    {
      "cell_type": "code",
      "source": [
        "## test\n",
        "test_labels = list(test['polarity'])\n",
        "label_mapping = {'positive': 0, 'negative': 1, 'neutral': 2}\n",
        "test_numeric_labels = [label_mapping[label] for label in test_labels]\n",
        "test_dataset_tensor = test_emb\n",
        "test_labels_tensor = torch.LongTensor(test_numeric_labels)\n",
        "test_data = TensorDataset(test_dataset_tensor, test_labels_tensor)\n",
        "test_dataloader = DataLoader(test_data, batch_size=batch_size, shuffle=True)"
      ],
      "metadata": {
        "id": "cMReI4KtW6eH"
      },
      "execution_count": null,
      "outputs": []
    },
    {
      "cell_type": "code",
      "source": [
        "import torch\n",
        "import torch.nn as nn\n",
        "from torch.utils.data import DataLoader, TensorDataset\n",
        "\n",
        "# Define your fully feed-forward network with multiple hidden layers\n",
        "class Net(nn.Module):\n",
        "    def __init__(self):\n",
        "        super(Net, self).__init__()\n",
        "        self.fc1 = nn.Linear(600, 256)\n",
        "        self.fc2 = nn.Linear(256, 128)\n",
        "        self.fc3 = nn.Linear(128, 3)  # Assuming 3 classes: pos, neg, neutral\n",
        "\n",
        "    def forward(self, x):\n",
        "        x = torch.relu(self.fc1(x))\n",
        "        x = torch.relu(self.fc2(x))\n",
        "        x = self.fc3(x)\n",
        "        return x\n",
        "\n",
        "\n",
        "# Define batch size and number of epochs\n",
        "num_epochs = 10\n",
        "\n",
        "\n",
        "# Initialize your network\n",
        "model = Net()\n",
        "\n",
        "# Define loss function and optimizer\n",
        "criterion = nn.CrossEntropyLoss()\n",
        "optimizer = torch.optim.Adam(model.parameters(), lr=0.01)\n",
        "\n",
        "# Training loop\n",
        "for epoch in range(num_epochs):\n",
        "    total_loss = 0\n",
        "    total_correct = 0\n",
        "    total_samples = 0\n",
        "\n",
        "    for batch_inputs, batch_labels in dataloader:\n",
        "        # Forward pass\n",
        "        outputs = model(batch_inputs)\n",
        "\n",
        "        # Compute loss\n",
        "        loss = criterion(outputs, batch_labels)\n",
        "\n",
        "        # Backward pass and optimization\n",
        "        optimizer.zero_grad()\n",
        "        loss.backward()\n",
        "        optimizer.step()\n",
        "\n",
        "        # Update accuracy metrics\n",
        "        total_loss += loss.item()\n",
        "        _, predicted = torch.max(outputs.data, 1)\n",
        "        total_correct += (predicted == batch_labels).sum().item()\n",
        "        total_samples += batch_labels.size(0)\n",
        "\n",
        "    # Calculate accuracy\n",
        "    accuracy = total_correct / total_samples\n",
        "\n",
        "    # Print epoch statistics\n",
        "    print(f\"Epoch {epoch + 1}/{num_epochs}, Loss: {total_loss:.4f}, Accuracy: {accuracy:.4f}\")\n",
        "\n",
        "    # Validation phase\n",
        "    model.eval()\n",
        "    val_loss = 0\n",
        "    val_correct = 0\n",
        "    val_total = 0\n",
        "\n",
        "    with torch.no_grad():\n",
        "        for val_inputs, val_labels in dev_dataloader:\n",
        "            # Forward pass\n",
        "            val_outputs = model(val_inputs)\n",
        "\n",
        "            # Compute validation loss\n",
        "            loss = criterion(val_outputs, val_labels)\n",
        "\n",
        "            # Update validation accuracy metrics\n",
        "            val_loss += loss.item()\n",
        "            _, val_predicted = torch.max(val_outputs.data, 1)\n",
        "            val_correct += (val_predicted == val_labels).sum().item()\n",
        "            val_total += val_labels.size(0)\n",
        "\n",
        "    # Calculate validation accuracy\n",
        "    val_accuracy = val_correct / val_total\n",
        "\n",
        "    # Print epoch statistics\n",
        "    print(f\"Epoch {epoch + 1}/{num_epochs}, \"\n",
        "          f\"Val Loss: {val_loss:.4f}, Val Accuracy: {val_accuracy:.4f}\")\n",
        "\n",
        "\n"
      ],
      "metadata": {
        "colab": {
          "base_uri": "https://localhost:8080/"
        },
        "id": "Hr_u8hKDW6ge",
        "outputId": "418678a8-7458-45cf-a5f9-2e9340501dcc"
      },
      "execution_count": null,
      "outputs": [
        {
          "output_type": "stream",
          "name": "stdout",
          "text": [
            "Epoch 1/10, Loss: 91.7444, Accuracy: 0.6231\n",
            "Epoch 1/10, Val Loss: 4.9230, Val Accuracy: 0.5133\n",
            "Epoch 2/10, Loss: 76.3894, Accuracy: 0.6932\n",
            "Epoch 2/10, Val Loss: 4.4309, Val Accuracy: 0.6067\n",
            "Epoch 3/10, Loss: 71.3529, Accuracy: 0.7164\n",
            "Epoch 3/10, Val Loss: 4.4644, Val Accuracy: 0.5933\n",
            "Epoch 4/10, Loss: 66.2785, Accuracy: 0.7439\n",
            "Epoch 4/10, Val Loss: 3.9810, Val Accuracy: 0.6000\n",
            "Epoch 5/10, Loss: 63.4117, Accuracy: 0.7503\n",
            "Epoch 5/10, Val Loss: 4.3648, Val Accuracy: 0.5733\n",
            "Epoch 6/10, Loss: 60.8188, Accuracy: 0.7598\n",
            "Epoch 6/10, Val Loss: 4.4210, Val Accuracy: 0.6067\n",
            "Epoch 7/10, Loss: 56.1862, Accuracy: 0.7723\n",
            "Epoch 7/10, Val Loss: 4.5648, Val Accuracy: 0.5733\n",
            "Epoch 8/10, Loss: 52.8896, Accuracy: 0.7946\n",
            "Epoch 8/10, Val Loss: 5.1858, Val Accuracy: 0.5600\n",
            "Epoch 9/10, Loss: 50.7460, Accuracy: 0.8036\n",
            "Epoch 9/10, Val Loss: 5.1987, Val Accuracy: 0.5267\n",
            "Epoch 10/10, Loss: 45.9003, Accuracy: 0.8123\n",
            "Epoch 10/10, Val Loss: 5.4339, Val Accuracy: 0.5400\n"
          ]
        }
      ]
    },
    {
      "cell_type": "code",
      "source": [
        "# Validation phase\n",
        "model.eval()\n",
        "val_loss = 0\n",
        "val_correct = 0\n",
        "val_total = 0\n",
        "\n",
        "\n",
        "pred_list = []\n",
        "label_list =  []\n",
        "\n",
        "with torch.no_grad():\n",
        "    for val_inputs, val_labels in test_dataloader:\n",
        "        # Forward pass\n",
        "        val_outputs = model(val_inputs)\n",
        "\n",
        "        # Compute validation loss\n",
        "        loss = criterion(val_outputs, val_labels)\n",
        "\n",
        "        # Update validation accuracy metrics\n",
        "        val_loss += loss.item()\n",
        "        _, val_predicted = torch.max(val_outputs.data, 1)\n",
        "\n",
        "        pred_list.extend(val_predicted.tolist())\n",
        "        label_list.extend(val_labels.tolist())\n",
        "\n",
        "        val_correct += (val_predicted == val_labels).sum().item()\n",
        "        val_total += val_labels.size(0)\n",
        "\n",
        "# Calculate validation accuracy\n",
        "val_accuracy = val_correct / val_total\n",
        "\n",
        "# Print epoch statistics\n",
        "print(f\"Val Loss: {val_loss:.4f}, Val Accuracy: {val_accuracy:.4f}\")"
      ],
      "metadata": {
        "colab": {
          "base_uri": "https://localhost:8080/"
        },
        "id": "1RC3-C44WJ0x",
        "outputId": "d803919c-abea-4599-ca48-4c4f1201f62f"
      },
      "execution_count": null,
      "outputs": [
        {
          "output_type": "stream",
          "name": "stdout",
          "text": [
            "Val Loss: 25.5432, Val Accuracy: 0.7500\n"
          ]
        }
      ]
    },
    {
      "cell_type": "code",
      "source": [
        "from sklearn.metrics import classification_report\n",
        "report = classification_report(label_list, pred_list, labels = [0,1,2], target_names = ['positive','negative','neutral'])\n",
        "print(report)"
      ],
      "metadata": {
        "colab": {
          "base_uri": "https://localhost:8080/"
        },
        "id": "ksp4wpaiXErO",
        "outputId": "588bb0e1-318e-4458-cfa7-1a2a4b6cfe01"
      },
      "execution_count": null,
      "outputs": [
        {
          "output_type": "stream",
          "name": "stdout",
          "text": [
            "              precision    recall  f1-score   support\n",
            "\n",
            "    positive       0.82      0.89      0.85       728\n",
            "    negative       0.57      0.69      0.63       196\n",
            "     neutral       0.63      0.27      0.38       196\n",
            "\n",
            "    accuracy                           0.75      1120\n",
            "   macro avg       0.67      0.62      0.62      1120\n",
            "weighted avg       0.74      0.75      0.73      1120\n",
            "\n"
          ]
        }
      ]
    },
    {
      "cell_type": "code",
      "source": [],
      "metadata": {
        "id": "TmcLCRA-XEtp"
      },
      "execution_count": null,
      "outputs": []
    },
    {
      "cell_type": "markdown",
      "source": [
        "### Identify NER terms"
      ],
      "metadata": {
        "id": "xWcIh_NDq3LL"
      }
    },
    {
      "cell_type": "code",
      "source": [
        "model.most_similar(\"laptop\")"
      ],
      "metadata": {
        "colab": {
          "base_uri": "https://localhost:8080/"
        },
        "id": "Sj4cS_Q3rsy6",
        "outputId": "86a8ac78-8a76-4443-acdf-eb16f3daeedf"
      },
      "execution_count": null,
      "outputs": [
        {
          "output_type": "execute_result",
          "data": {
            "text/plain": [
              "[('laptops', 0.8053741455078125),\n",
              " ('laptop_computer', 0.7848465442657471),\n",
              " ('notebook', 0.67857825756073),\n",
              " ('netbook', 0.6707928776741028),\n",
              " ('computer', 0.6640493273735046),\n",
              " ('laptop_computers', 0.6633791327476501),\n",
              " ('notebook_PC', 0.6631842851638794),\n",
              " ('MacBook', 0.6598750352859497),\n",
              " ('PowerBook', 0.6520565748214722),\n",
              " ('Sony_Vaio_laptop', 0.6496157050132751)]"
            ]
          },
          "metadata": {},
          "execution_count": 7
        }
      ]
    },
    {
      "cell_type": "code",
      "source": [
        "model.most_similar(\"review\")"
      ],
      "metadata": {
        "colab": {
          "base_uri": "https://localhost:8080/"
        },
        "id": "t4HW_jKbrulj",
        "outputId": "a3c95f28-ca8c-4bf1-c18c-219fa40f1f87"
      },
      "execution_count": null,
      "outputs": [
        {
          "output_type": "execute_result",
          "data": {
            "text/plain": [
              "[('reviewed', 0.6630409359931946),\n",
              " ('reviewing', 0.6609557271003723),\n",
              " ('reviews', 0.6379557251930237),\n",
              " ('evaluation', 0.6035540699958801),\n",
              " ('assessment', 0.533311128616333),\n",
              " ('examine', 0.529162585735321),\n",
              " ('scrutinize', 0.5097422003746033),\n",
              " ('Review', 0.5088513493537903),\n",
              " ('reveiw', 0.5067904591560364),\n",
              " ('4BETTER_OR_WORSE', 0.5062153339385986)]"
            ]
          },
          "metadata": {},
          "execution_count": 8
        }
      ]
    },
    {
      "cell_type": "code",
      "source": [
        "model.similarity('review','feedback')"
      ],
      "metadata": {
        "colab": {
          "base_uri": "https://localhost:8080/"
        },
        "id": "6wzLgziQhob1",
        "outputId": "5b44c8fb-fd7d-4fb0-a0b4-b7e339c24209"
      },
      "execution_count": null,
      "outputs": [
        {
          "output_type": "execute_result",
          "data": {
            "text/plain": [
              "0.30173475"
            ]
          },
          "metadata": {},
          "execution_count": 9
        }
      ]
    },
    {
      "cell_type": "code",
      "source": [
        "from google.colab import drive\n",
        "drive.mount('/content/drive')"
      ],
      "metadata": {
        "colab": {
          "base_uri": "https://localhost:8080/"
        },
        "id": "7UMVLO4Dg2SE",
        "outputId": "ed998565-a8c4-44bd-dd45-40acf6bc0312"
      },
      "execution_count": null,
      "outputs": [
        {
          "output_type": "stream",
          "name": "stdout",
          "text": [
            "Drive already mounted at /content/drive; to attempt to forcibly remount, call drive.mount(\"/content/drive\", force_remount=True).\n"
          ]
        }
      ]
    },
    {
      "cell_type": "code",
      "source": [
        "import pandas as  pd\n",
        "train = pd.read_json('/content/drive/MyDrive/ABSA/laptop/train.json').T.reset_index()"
      ],
      "metadata": {
        "id": "me6Nr34QjAG-"
      },
      "execution_count": null,
      "outputs": []
    },
    {
      "cell_type": "code",
      "source": [
        "train.head()"
      ],
      "metadata": {
        "colab": {
          "base_uri": "https://localhost:8080/",
          "height": 206
        },
        "id": "CTW4Jpi5jXP2",
        "outputId": "458a70ff-e844-4a7d-c56f-1312d5951250"
      },
      "execution_count": null,
      "outputs": [
        {
          "output_type": "execute_result",
          "data": {
            "text/plain": [
              "   index  polarity            term      id  \\\n",
              "0   3270  positive             use   327_0   \n",
              "1  30770  positive           noise  3077_0   \n",
              "2  15921  positive           force  1592_1   \n",
              "3   3290  negative         expense   329_0   \n",
              "4  11840  negative  word processor  1184_0   \n",
              "\n",
              "                                            sentence  \n",
              "0  Also it is very good for college students who ...  \n",
              "1  For those that care about noise this thing doe...  \n",
              "2  Enjoy that Toshib force and durability unparal...  \n",
              "3  I know that everyone thinks Macs are overprice...  \n",
              "4  ) And printing from either word processor is a...  "
            ],
            "text/html": [
              "\n",
              "  <div id=\"df-ae86a415-3ffd-4b5c-af7d-a3d8a597ba75\">\n",
              "    <div class=\"colab-df-container\">\n",
              "      <div>\n",
              "<style scoped>\n",
              "    .dataframe tbody tr th:only-of-type {\n",
              "        vertical-align: middle;\n",
              "    }\n",
              "\n",
              "    .dataframe tbody tr th {\n",
              "        vertical-align: top;\n",
              "    }\n",
              "\n",
              "    .dataframe thead th {\n",
              "        text-align: right;\n",
              "    }\n",
              "</style>\n",
              "<table border=\"1\" class=\"dataframe\">\n",
              "  <thead>\n",
              "    <tr style=\"text-align: right;\">\n",
              "      <th></th>\n",
              "      <th>index</th>\n",
              "      <th>polarity</th>\n",
              "      <th>term</th>\n",
              "      <th>id</th>\n",
              "      <th>sentence</th>\n",
              "    </tr>\n",
              "  </thead>\n",
              "  <tbody>\n",
              "    <tr>\n",
              "      <th>0</th>\n",
              "      <td>3270</td>\n",
              "      <td>positive</td>\n",
              "      <td>use</td>\n",
              "      <td>327_0</td>\n",
              "      <td>Also it is very good for college students who ...</td>\n",
              "    </tr>\n",
              "    <tr>\n",
              "      <th>1</th>\n",
              "      <td>30770</td>\n",
              "      <td>positive</td>\n",
              "      <td>noise</td>\n",
              "      <td>3077_0</td>\n",
              "      <td>For those that care about noise this thing doe...</td>\n",
              "    </tr>\n",
              "    <tr>\n",
              "      <th>2</th>\n",
              "      <td>15921</td>\n",
              "      <td>positive</td>\n",
              "      <td>force</td>\n",
              "      <td>1592_1</td>\n",
              "      <td>Enjoy that Toshib force and durability unparal...</td>\n",
              "    </tr>\n",
              "    <tr>\n",
              "      <th>3</th>\n",
              "      <td>3290</td>\n",
              "      <td>negative</td>\n",
              "      <td>expense</td>\n",
              "      <td>329_0</td>\n",
              "      <td>I know that everyone thinks Macs are overprice...</td>\n",
              "    </tr>\n",
              "    <tr>\n",
              "      <th>4</th>\n",
              "      <td>11840</td>\n",
              "      <td>negative</td>\n",
              "      <td>word processor</td>\n",
              "      <td>1184_0</td>\n",
              "      <td>) And printing from either word processor is a...</td>\n",
              "    </tr>\n",
              "  </tbody>\n",
              "</table>\n",
              "</div>\n",
              "      <button class=\"colab-df-convert\" onclick=\"convertToInteractive('df-ae86a415-3ffd-4b5c-af7d-a3d8a597ba75')\"\n",
              "              title=\"Convert this dataframe to an interactive table.\"\n",
              "              style=\"display:none;\">\n",
              "        \n",
              "  <svg xmlns=\"http://www.w3.org/2000/svg\" height=\"24px\"viewBox=\"0 0 24 24\"\n",
              "       width=\"24px\">\n",
              "    <path d=\"M0 0h24v24H0V0z\" fill=\"none\"/>\n",
              "    <path d=\"M18.56 5.44l.94 2.06.94-2.06 2.06-.94-2.06-.94-.94-2.06-.94 2.06-2.06.94zm-11 1L8.5 8.5l.94-2.06 2.06-.94-2.06-.94L8.5 2.5l-.94 2.06-2.06.94zm10 10l.94 2.06.94-2.06 2.06-.94-2.06-.94-.94-2.06-.94 2.06-2.06.94z\"/><path d=\"M17.41 7.96l-1.37-1.37c-.4-.4-.92-.59-1.43-.59-.52 0-1.04.2-1.43.59L10.3 9.45l-7.72 7.72c-.78.78-.78 2.05 0 2.83L4 21.41c.39.39.9.59 1.41.59.51 0 1.02-.2 1.41-.59l7.78-7.78 2.81-2.81c.8-.78.8-2.07 0-2.86zM5.41 20L4 18.59l7.72-7.72 1.47 1.35L5.41 20z\"/>\n",
              "  </svg>\n",
              "      </button>\n",
              "      \n",
              "  <style>\n",
              "    .colab-df-container {\n",
              "      display:flex;\n",
              "      flex-wrap:wrap;\n",
              "      gap: 12px;\n",
              "    }\n",
              "\n",
              "    .colab-df-convert {\n",
              "      background-color: #E8F0FE;\n",
              "      border: none;\n",
              "      border-radius: 50%;\n",
              "      cursor: pointer;\n",
              "      display: none;\n",
              "      fill: #1967D2;\n",
              "      height: 32px;\n",
              "      padding: 0 0 0 0;\n",
              "      width: 32px;\n",
              "    }\n",
              "\n",
              "    .colab-df-convert:hover {\n",
              "      background-color: #E2EBFA;\n",
              "      box-shadow: 0px 1px 2px rgba(60, 64, 67, 0.3), 0px 1px 3px 1px rgba(60, 64, 67, 0.15);\n",
              "      fill: #174EA6;\n",
              "    }\n",
              "\n",
              "    [theme=dark] .colab-df-convert {\n",
              "      background-color: #3B4455;\n",
              "      fill: #D2E3FC;\n",
              "    }\n",
              "\n",
              "    [theme=dark] .colab-df-convert:hover {\n",
              "      background-color: #434B5C;\n",
              "      box-shadow: 0px 1px 3px 1px rgba(0, 0, 0, 0.15);\n",
              "      filter: drop-shadow(0px 1px 2px rgba(0, 0, 0, 0.3));\n",
              "      fill: #FFFFFF;\n",
              "    }\n",
              "  </style>\n",
              "\n",
              "      <script>\n",
              "        const buttonEl =\n",
              "          document.querySelector('#df-ae86a415-3ffd-4b5c-af7d-a3d8a597ba75 button.colab-df-convert');\n",
              "        buttonEl.style.display =\n",
              "          google.colab.kernel.accessAllowed ? 'block' : 'none';\n",
              "\n",
              "        async function convertToInteractive(key) {\n",
              "          const element = document.querySelector('#df-ae86a415-3ffd-4b5c-af7d-a3d8a597ba75');\n",
              "          const dataTable =\n",
              "            await google.colab.kernel.invokeFunction('convertToInteractive',\n",
              "                                                     [key], {});\n",
              "          if (!dataTable) return;\n",
              "\n",
              "          const docLinkHtml = 'Like what you see? Visit the ' +\n",
              "            '<a target=\"_blank\" href=https://colab.research.google.com/notebooks/data_table.ipynb>data table notebook</a>'\n",
              "            + ' to learn more about interactive tables.';\n",
              "          element.innerHTML = '';\n",
              "          dataTable['output_type'] = 'display_data';\n",
              "          await google.colab.output.renderOutput(dataTable, element);\n",
              "          const docLink = document.createElement('div');\n",
              "          docLink.innerHTML = docLinkHtml;\n",
              "          element.appendChild(docLink);\n",
              "        }\n",
              "      </script>\n",
              "    </div>\n",
              "  </div>\n",
              "  "
            ]
          },
          "metadata": {},
          "execution_count": 80
        }
      ]
    },
    {
      "cell_type": "code",
      "source": [
        "\n",
        "def preprocess_text(text):\n",
        "\n",
        "    # Remove special characters and numbers\n",
        "    text = re.sub('[^a-zA-Z]', ' ', text)\n",
        "\n",
        "    text = text.lower()\n",
        "\n",
        "    # Tokenize\n",
        "    words = text.split()\n",
        "\n",
        "    # Remove stopwords\n",
        "    stop_words = set(stopwords.words('english'))\n",
        "    words = [word for word in words if word not in stop_words]\n",
        "\n",
        "    # Apply lemmatization\n",
        "    lemmatizer = WordNetLemmatizer()\n",
        "    words = [lemmatizer.lemmatize(word) for word in words]\n",
        "\n",
        "    return words"
      ],
      "metadata": {
        "id": "xUdDeJTmoMz9"
      },
      "execution_count": null,
      "outputs": []
    },
    {
      "cell_type": "code",
      "source": [
        "import re\n",
        "import nltk\n",
        "nltk.download('stopwords')\n",
        "nltk.download('wordnet')\n",
        "from nltk.corpus import stopwords\n",
        "from nltk.stem import WordNetLemmatizer\n"
      ],
      "metadata": {
        "colab": {
          "base_uri": "https://localhost:8080/"
        },
        "id": "5-SvbfoqoM2R",
        "outputId": "222c570a-a675-42db-93d7-8bd49c72f716"
      },
      "execution_count": null,
      "outputs": [
        {
          "output_type": "stream",
          "name": "stderr",
          "text": [
            "[nltk_data] Downloading package stopwords to /root/nltk_data...\n",
            "[nltk_data]   Package stopwords is already up-to-date!\n",
            "[nltk_data] Downloading package wordnet to /root/nltk_data...\n",
            "[nltk_data]   Package wordnet is already up-to-date!\n"
          ]
        }
      ]
    },
    {
      "cell_type": "code",
      "source": [
        "train['processed_tokens'] = train['sentence'].apply(preprocess_text)"
      ],
      "metadata": {
        "id": "whIboAkio_Qv"
      },
      "execution_count": null,
      "outputs": []
    },
    {
      "cell_type": "code",
      "source": [
        "train['processed_aspects'] = train['term'].apply(preprocess_text)"
      ],
      "metadata": {
        "id": "CDJppXCfo-DR"
      },
      "execution_count": null,
      "outputs": []
    },
    {
      "cell_type": "code",
      "source": [
        "aspect_words = set()\n",
        "\n",
        "for w in train['processed_aspects']:\n",
        "  for sw in w:\n",
        "    if  sw.lower() in model.key_to_index.keys():\n",
        "      aspect_words.add(sw.lower())"
      ],
      "metadata": {
        "id": "lsU0YRH9k2F7"
      },
      "execution_count": null,
      "outputs": []
    },
    {
      "cell_type": "code",
      "source": [
        "len(aspect_words)"
      ],
      "metadata": {
        "colab": {
          "base_uri": "https://localhost:8080/"
        },
        "id": "6zyuE2bwlgaK",
        "outputId": "b7d02570-dc2c-48b0-f315-42c34844edcb"
      },
      "execution_count": null,
      "outputs": [
        {
          "output_type": "execute_result",
          "data": {
            "text/plain": [
              "636"
            ]
          },
          "metadata": {},
          "execution_count": 86
        }
      ]
    },
    {
      "cell_type": "code",
      "source": [
        "len(train)"
      ],
      "metadata": {
        "colab": {
          "base_uri": "https://localhost:8080/"
        },
        "id": "5wsIwpKbmD5K",
        "outputId": "b3c1f4df-3203-4423-c18c-8c6e8a25299a"
      },
      "execution_count": null,
      "outputs": [
        {
          "output_type": "execute_result",
          "data": {
            "text/plain": [
              "2163"
            ]
          },
          "metadata": {},
          "execution_count": 87
        }
      ]
    },
    {
      "cell_type": "code",
      "source": [
        "s = [model.similarity('laptop',w) for w in aspect_words]"
      ],
      "metadata": {
        "id": "zkJ-BvbMlgcw"
      },
      "execution_count": null,
      "outputs": []
    },
    {
      "cell_type": "code",
      "source": [
        "min(s)"
      ],
      "metadata": {
        "colab": {
          "base_uri": "https://localhost:8080/"
        },
        "id": "CVRmkWzwmajN",
        "outputId": "8f4d4ef4-c008-48ee-9390-279071ce406d"
      },
      "execution_count": null,
      "outputs": [
        {
          "output_type": "execute_result",
          "data": {
            "text/plain": [
              "-0.25905126"
            ]
          },
          "metadata": {},
          "execution_count": 89
        }
      ]
    },
    {
      "cell_type": "code",
      "source": [
        "max(s)"
      ],
      "metadata": {
        "colab": {
          "base_uri": "https://localhost:8080/"
        },
        "id": "aOT5RAeLmalq",
        "outputId": "f52c1f25-3545-4ce3-f12e-dce9378c42e9"
      },
      "execution_count": null,
      "outputs": [
        {
          "output_type": "execute_result",
          "data": {
            "text/plain": [
              "0.7993143"
            ]
          },
          "metadata": {},
          "execution_count": 90
        }
      ]
    },
    {
      "cell_type": "code",
      "source": [
        "sum(s)/len(s)"
      ],
      "metadata": {
        "colab": {
          "base_uri": "https://localhost:8080/"
        },
        "id": "ms2d4TcNmsgR",
        "outputId": "02b1ee50-7128-4701-a687-33d794cbfcf1"
      },
      "execution_count": null,
      "outputs": [
        {
          "output_type": "execute_result",
          "data": {
            "text/plain": [
              "0.3225325124240158"
            ]
          },
          "metadata": {},
          "execution_count": 91
        }
      ]
    },
    {
      "cell_type": "code",
      "source": [
        "s = [ max(model.similarity('review',w),model.similarity('laptop',w)) for w in aspect_words]"
      ],
      "metadata": {
        "id": "w3gcrtWtmsi0"
      },
      "execution_count": null,
      "outputs": []
    },
    {
      "cell_type": "code",
      "source": [
        "import matplotlib.pyplot as plt"
      ],
      "metadata": {
        "id": "eNTsQDCmm_as"
      },
      "execution_count": null,
      "outputs": []
    },
    {
      "cell_type": "code",
      "source": [
        "plt.hist(s)"
      ],
      "metadata": {
        "colab": {
          "base_uri": "https://localhost:8080/",
          "height": 518
        },
        "id": "uoOTcVaum_dH",
        "outputId": "8f27d14d-3167-4a38-9523-e88aaf9dd09b"
      },
      "execution_count": null,
      "outputs": [
        {
          "output_type": "execute_result",
          "data": {
            "text/plain": [
              "(array([  3.,  13.,  26.,  51.,  78., 131., 174., 112.,  39.,   9.]),\n",
              " array([-0.14057602, -0.04658699,  0.04740205,  0.14139108,  0.23538011,\n",
              "         0.32936916,  0.42335817,  0.51734722,  0.61133623,  0.70532531,\n",
              "         0.79931432]),\n",
              " <BarContainer object of 10 artists>)"
            ]
          },
          "metadata": {},
          "execution_count": 94
        },
        {
          "output_type": "display_data",
          "data": {
            "text/plain": [
              "<Figure size 640x480 with 1 Axes>"
            ],
            "image/png": "[encoded data removed]"
          },
          "metadata": {}
        }
      ]
    },
    {
      "cell_type": "code",
      "source": [],
      "metadata": {
        "id": "72cpNLqJninx"
      },
      "execution_count": null,
      "outputs": []
    },
    {
      "cell_type": "code",
      "source": [
        "train.head()"
      ],
      "metadata": {
        "colab": {
          "base_uri": "https://localhost:8080/",
          "height": 423
        },
        "id": "Vm63Oe6MojJn",
        "outputId": "6fe5c8f2-b7c2-4f84-8100-eb819e933728"
      },
      "execution_count": null,
      "outputs": [
        {
          "output_type": "execute_result",
          "data": {
            "text/plain": [
              "   index  polarity            term      id  \\\n",
              "0   3270  positive             use   327_0   \n",
              "1  30770  positive           noise  3077_0   \n",
              "2  15921  positive           force  1592_1   \n",
              "3   3290  negative         expense   329_0   \n",
              "4  11840  negative  word processor  1184_0   \n",
              "\n",
              "                                            sentence  \\\n",
              "0  Also it is very good for college students who ...   \n",
              "1  For those that care about noise this thing doe...   \n",
              "2  Enjoy that Toshib force and durability unparal...   \n",
              "3  I know that everyone thinks Macs are overprice...   \n",
              "4  ) And printing from either word processor is a...   \n",
              "\n",
              "                                    processed_tokens  processed_aspects  \n",
              "0  [also, good, college, student, need, reliable,...              [use]  \n",
              "1                 [care, noise, thing, really, make]            [noise]  \n",
              "2   [enjoy, toshib, force, durability, unparalleled]            [force]  \n",
              "3  [know, everyone, think, mac, overpriced, overr...          [expense]  \n",
              "4     [printing, either, word, processor, adventure]  [word, processor]  "
            ],
            "text/html": [
              "\n",
              "  <div id=\"df-a59287fe-03ac-4786-b493-1326cf89f189\">\n",
              "    <div class=\"colab-df-container\">\n",
              "      <div>\n",
              "<style scoped>\n",
              "    .dataframe tbody tr th:only-of-type {\n",
              "        vertical-align: middle;\n",
              "    }\n",
              "\n",
              "    .dataframe tbody tr th {\n",
              "        vertical-align: top;\n",
              "    }\n",
              "\n",
              "    .dataframe thead th {\n",
              "        text-align: right;\n",
              "    }\n",
              "</style>\n",
              "<table border=\"1\" class=\"dataframe\">\n",
              "  <thead>\n",
              "    <tr style=\"text-align: right;\">\n",
              "      <th></th>\n",
              "      <th>index</th>\n",
              "      <th>polarity</th>\n",
              "      <th>term</th>\n",
              "      <th>id</th>\n",
              "      <th>sentence</th>\n",
              "      <th>processed_tokens</th>\n",
              "      <th>processed_aspects</th>\n",
              "    </tr>\n",
              "  </thead>\n",
              "  <tbody>\n",
              "    <tr>\n",
              "      <th>0</th>\n",
              "      <td>3270</td>\n",
              "      <td>positive</td>\n",
              "      <td>use</td>\n",
              "      <td>327_0</td>\n",
              "      <td>Also it is very good for college students who ...</td>\n",
              "      <td>[also, good, college, student, need, reliable,...</td>\n",
              "      <td>[use]</td>\n",
              "    </tr>\n",
              "    <tr>\n",
              "      <th>1</th>\n",
              "      <td>30770</td>\n",
              "      <td>positive</td>\n",
              "      <td>noise</td>\n",
              "      <td>3077_0</td>\n",
              "      <td>For those that care about noise this thing doe...</td>\n",
              "      <td>[care, noise, thing, really, make]</td>\n",
              "      <td>[noise]</td>\n",
              "    </tr>\n",
              "    <tr>\n",
              "      <th>2</th>\n",
              "      <td>15921</td>\n",
              "      <td>positive</td>\n",
              "      <td>force</td>\n",
              "      <td>1592_1</td>\n",
              "      <td>Enjoy that Toshib force and durability unparal...</td>\n",
              "      <td>[enjoy, toshib, force, durability, unparalleled]</td>\n",
              "      <td>[force]</td>\n",
              "    </tr>\n",
              "    <tr>\n",
              "      <th>3</th>\n",
              "      <td>3290</td>\n",
              "      <td>negative</td>\n",
              "      <td>expense</td>\n",
              "      <td>329_0</td>\n",
              "      <td>I know that everyone thinks Macs are overprice...</td>\n",
              "      <td>[know, everyone, think, mac, overpriced, overr...</td>\n",
              "      <td>[expense]</td>\n",
              "    </tr>\n",
              "    <tr>\n",
              "      <th>4</th>\n",
              "      <td>11840</td>\n",
              "      <td>negative</td>\n",
              "      <td>word processor</td>\n",
              "      <td>1184_0</td>\n",
              "      <td>) And printing from either word processor is a...</td>\n",
              "      <td>[printing, either, word, processor, adventure]</td>\n",
              "      <td>[word, processor]</td>\n",
              "    </tr>\n",
              "  </tbody>\n",
              "</table>\n",
              "</div>\n",
              "      <button class=\"colab-df-convert\" onclick=\"convertToInteractive('df-a59287fe-03ac-4786-b493-1326cf89f189')\"\n",
              "              title=\"Convert this dataframe to an interactive table.\"\n",
              "              style=\"display:none;\">\n",
              "        \n",
              "  <svg xmlns=\"http://www.w3.org/2000/svg\" height=\"24px\"viewBox=\"0 0 24 24\"\n",
              "       width=\"24px\">\n",
              "    <path d=\"M0 0h24v24H0V0z\" fill=\"none\"/>\n",
              "    <path d=\"M18.56 5.44l.94 2.06.94-2.06 2.06-.94-2.06-.94-.94-2.06-.94 2.06-2.06.94zm-11 1L8.5 8.5l.94-2.06 2.06-.94-2.06-.94L8.5 2.5l-.94 2.06-2.06.94zm10 10l.94 2.06.94-2.06 2.06-.94-2.06-.94-.94-2.06-.94 2.06-2.06.94z\"/><path d=\"M17.41 7.96l-1.37-1.37c-.4-.4-.92-.59-1.43-.59-.52 0-1.04.2-1.43.59L10.3 9.45l-7.72 7.72c-.78.78-.78 2.05 0 2.83L4 21.41c.39.39.9.59 1.41.59.51 0 1.02-.2 1.41-.59l7.78-7.78 2.81-2.81c.8-.78.8-2.07 0-2.86zM5.41 20L4 18.59l7.72-7.72 1.47 1.35L5.41 20z\"/>\n",
              "  </svg>\n",
              "      </button>\n",
              "      \n",
              "  <style>\n",
              "    .colab-df-container {\n",
              "      display:flex;\n",
              "      flex-wrap:wrap;\n",
              "      gap: 12px;\n",
              "    }\n",
              "\n",
              "    .colab-df-convert {\n",
              "      background-color: #E8F0FE;\n",
              "      border: none;\n",
              "      border-radius: 50%;\n",
              "      cursor: pointer;\n",
              "      display: none;\n",
              "      fill: #1967D2;\n",
              "      height: 32px;\n",
              "      padding: 0 0 0 0;\n",
              "      width: 32px;\n",
              "    }\n",
              "\n",
              "    .colab-df-convert:hover {\n",
              "      background-color: #E2EBFA;\n",
              "      box-shadow: 0px 1px 2px rgba(60, 64, 67, 0.3), 0px 1px 3px 1px rgba(60, 64, 67, 0.15);\n",
              "      fill: #174EA6;\n",
              "    }\n",
              "\n",
              "    [theme=dark] .colab-df-convert {\n",
              "      background-color: #3B4455;\n",
              "      fill: #D2E3FC;\n",
              "    }\n",
              "\n",
              "    [theme=dark] .colab-df-convert:hover {\n",
              "      background-color: #434B5C;\n",
              "      box-shadow: 0px 1px 3px 1px rgba(0, 0, 0, 0.15);\n",
              "      filter: drop-shadow(0px 1px 2px rgba(0, 0, 0, 0.3));\n",
              "      fill: #FFFFFF;\n",
              "    }\n",
              "  </style>\n",
              "\n",
              "      <script>\n",
              "        const buttonEl =\n",
              "          document.querySelector('#df-a59287fe-03ac-4786-b493-1326cf89f189 button.colab-df-convert');\n",
              "        buttonEl.style.display =\n",
              "          google.colab.kernel.accessAllowed ? 'block' : 'none';\n",
              "\n",
              "        async function convertToInteractive(key) {\n",
              "          const element = document.querySelector('#df-a59287fe-03ac-4786-b493-1326cf89f189');\n",
              "          const dataTable =\n",
              "            await google.colab.kernel.invokeFunction('convertToInteractive',\n",
              "                                                     [key], {});\n",
              "          if (!dataTable) return;\n",
              "\n",
              "          const docLinkHtml = 'Like what you see? Visit the ' +\n",
              "            '<a target=\"_blank\" href=https://colab.research.google.com/notebooks/data_table.ipynb>data table notebook</a>'\n",
              "            + ' to learn more about interactive tables.';\n",
              "          element.innerHTML = '';\n",
              "          dataTable['output_type'] = 'display_data';\n",
              "          await google.colab.output.renderOutput(dataTable, element);\n",
              "          const docLink = document.createElement('div');\n",
              "          docLink.innerHTML = docLinkHtml;\n",
              "          element.appendChild(docLink);\n",
              "        }\n",
              "      </script>\n",
              "    </div>\n",
              "  </div>\n",
              "  "
            ]
          },
          "metadata": {},
          "execution_count": 95
        }
      ]
    },
    {
      "cell_type": "code",
      "source": [
        "other_words = set()\n",
        "for sentence in train['processed_tokens']:\n",
        "  for w in sentence:\n",
        "    for sw in w.split():\n",
        "      if  sw.lower() in model.key_to_index.keys():\n",
        "        if sw.lower() not in aspect_words:\n",
        "          other_words.add(sw.lower())"
      ],
      "metadata": {
        "id": "4pVpMiUgniqf"
      },
      "execution_count": null,
      "outputs": []
    },
    {
      "cell_type": "code",
      "source": [
        "s = [ model.similarity('laptop',w) for w in other_words]"
      ],
      "metadata": {
        "id": "mz2RMaOomslP"
      },
      "execution_count": null,
      "outputs": []
    },
    {
      "cell_type": "code",
      "source": [
        "plt.hist(s)"
      ],
      "metadata": {
        "colab": {
          "base_uri": "https://localhost:8080/",
          "height": 518
        },
        "id": "pWb2k2WTpliV",
        "outputId": "89970c81-3094-4ebf-a42f-2f39506e0d47"
      },
      "execution_count": null,
      "outputs": [
        {
          "output_type": "execute_result",
          "data": {
            "text/plain": [
              "(array([ 44., 137., 285., 525., 587., 195.,  22.,   6.,   2.,   1.]),\n",
              " array([-0.22518566, -0.10266709,  0.01985147,  0.14237003,  0.26488861,\n",
              "         0.38740718,  0.50992572,  0.63244432,  0.75496286,  0.87748146,\n",
              "         1.        ]),\n",
              " <BarContainer object of 10 artists>)"
            ]
          },
          "metadata": {},
          "execution_count": 98
        },
        {
          "output_type": "display_data",
          "data": {
            "text/plain": [
              "<Figure size 640x480 with 1 Axes>"
            ],
            "image/png": "[encoded data removed]"
          },
          "metadata": {}
        }
      ]
    },
    {
      "cell_type": "code",
      "source": [],
      "metadata": {
        "id": "MA02skRxplk9"
      },
      "execution_count": null,
      "outputs": []
    },
    {
      "cell_type": "code",
      "source": [],
      "metadata": {
        "id": "rNR85ybiqFJn"
      },
      "execution_count": null,
      "outputs": []
    }
  ]
}